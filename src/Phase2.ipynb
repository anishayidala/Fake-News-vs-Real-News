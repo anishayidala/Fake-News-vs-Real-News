{
  "nbformat": 4,
  "nbformat_minor": 0,
  "metadata": {
    "colab": {
      "name": "Phase2.ipynb",
      "provenance": [],
      "collapsed_sections": []
    },
    "kernelspec": {
      "name": "python3",
      "display_name": "Python 3"
    },
    "language_info": {
      "name": "python"
    }
  },
  "cells": [
    {
      "cell_type": "code",
      "metadata": {
        "id": "Kvwp5eGhRaf7"
      },
      "source": [
        "#importing libraries\n",
        "import re\n",
        "import string\n",
        "import nltk\n",
        "import numpy as np\n",
        "import pandas as pd\n",
        "import seaborn as sns\n",
        "from wordcloud import WordCloud\n",
        "from collections import Counter\n",
        "import matplotlib.pyplot as plt\n",
        "from sklearn import  tree\n",
        "from sklearn.ensemble import  RandomForestClassifier\n",
        "from xgboost import XGBClassifier\n",
        "\n",
        "from sklearn.model_selection import train_test_split\n",
        "from sklearn.feature_extraction.text import  CountVectorizer\n",
        "from sklearn.metrics import confusion_matrix, classification_report, accuracy_score"
      ],
      "execution_count": 10,
      "outputs": []
    },
    {
      "cell_type": "code",
      "source": [
        "from sklearn.feature_extraction.text import TfidfVectorizer"
      ],
      "metadata": {
        "id": "Pc0rJr2j7xvm"
      },
      "execution_count": 11,
      "outputs": []
    },
    {
      "cell_type": "code",
      "source": [
        "import matplotlib.pyplot as plotter"
      ],
      "metadata": {
        "id": "yTo7q1nvfq-l"
      },
      "execution_count": 74,
      "outputs": []
    },
    {
      "cell_type": "code",
      "metadata": {
        "colab": {
          "base_uri": "https://localhost:8080/"
        },
        "id": "OjZZoFV9eQkI",
        "outputId": "308d70de-30ab-4ce3-d0b2-23bbd2ad1e26"
      },
      "source": [
        "nltk.download('punkt')"
      ],
      "execution_count": 12,
      "outputs": [
        {
          "output_type": "stream",
          "name": "stdout",
          "text": [
            "[nltk_data] Downloading package punkt to /root/nltk_data...\n",
            "[nltk_data]   Package punkt is already up-to-date!\n"
          ]
        },
        {
          "output_type": "execute_result",
          "data": {
            "text/plain": [
              "True"
            ]
          },
          "metadata": {},
          "execution_count": 12
        }
      ]
    },
    {
      "cell_type": "code",
      "metadata": {
        "colab": {
          "base_uri": "https://localhost:8080/"
        },
        "id": "35ECMdCneeLB",
        "outputId": "5865e21b-505a-465a-fde8-287d948a3458"
      },
      "source": [
        "nltk.download('stopwords')"
      ],
      "execution_count": 8,
      "outputs": [
        {
          "output_type": "stream",
          "name": "stdout",
          "text": [
            "[nltk_data] Downloading package stopwords to /root/nltk_data...\n",
            "[nltk_data]   Package stopwords is already up-to-date!\n"
          ]
        },
        {
          "output_type": "execute_result",
          "data": {
            "text/plain": [
              "True"
            ]
          },
          "metadata": {},
          "execution_count": 8
        }
      ]
    },
    {
      "cell_type": "code",
      "metadata": {
        "id": "m9lnkMypVLZK"
      },
      "source": [
        "#read train data with categories label to tarin models\n",
        "train = pd.read_csv('./Data_Train.csv',encoding='cp1252')\n",
        "test = pd.read_csv('./Data_Test.csv',encoding='cp1252')"
      ],
      "execution_count": 13,
      "outputs": []
    },
    {
      "cell_type": "code",
      "metadata": {
        "colab": {
          "base_uri": "https://localhost:8080/"
        },
        "id": "obaz1wFxYWlR",
        "outputId": "7941a1e8-951b-4262-9084-8275f387585c"
      },
      "source": [
        "train.info()"
      ],
      "execution_count": 14,
      "outputs": [
        {
          "output_type": "stream",
          "name": "stdout",
          "text": [
            "<class 'pandas.core.frame.DataFrame'>\n",
            "RangeIndex: 7628 entries, 0 to 7627\n",
            "Data columns (total 2 columns):\n",
            " #   Column   Non-Null Count  Dtype \n",
            "---  ------   --------------  ----- \n",
            " 0   STORY    7628 non-null   object\n",
            " 1   SECTION  7628 non-null   int64 \n",
            "dtypes: int64(1), object(1)\n",
            "memory usage: 119.3+ KB\n"
          ]
        }
      ]
    },
    {
      "cell_type": "code",
      "metadata": {
        "colab": {
          "base_uri": "https://localhost:8080/"
        },
        "id": "Cm7Q9W-8Z3qq",
        "outputId": "774f4eaf-4a2a-437a-9ed2-78b60aadfe87"
      },
      "source": [
        "#check null values\n",
        "train.isnull().sum()"
      ],
      "execution_count": 15,
      "outputs": [
        {
          "output_type": "execute_result",
          "data": {
            "text/plain": [
              "STORY      0\n",
              "SECTION    0\n",
              "dtype: int64"
            ]
          },
          "metadata": {},
          "execution_count": 15
        }
      ]
    },
    {
      "cell_type": "code",
      "metadata": {
        "id": "oMSrbfd1aFD3"
      },
      "source": [
        "#section column is category \n",
        "train['Category'] = train['SECTION']"
      ],
      "execution_count": 16,
      "outputs": []
    },
    {
      "cell_type": "code",
      "metadata": {
        "id": "Y0Nws1qtaGbT"
      },
      "source": [
        "#category notation\n",
        "rem = {\"Category\": {0: \"Politics\", 1: \"Technology\", 2:\"Entertainment\", 3:\"Business\"}}"
      ],
      "execution_count": 17,
      "outputs": []
    },
    {
      "cell_type": "code",
      "metadata": {
        "colab": {
          "base_uri": "https://localhost:8080/",
          "height": 413
        },
        "id": "w4g9Ky9GaQLJ",
        "outputId": "7db1815d-d725-4cd4-fa4d-e31a4686fc36"
      },
      "source": [
        "train"
      ],
      "execution_count": 18,
      "outputs": [
        {
          "output_type": "execute_result",
          "data": {
            "text/html": [
              "<div>\n",
              "<style scoped>\n",
              "    .dataframe tbody tr th:only-of-type {\n",
              "        vertical-align: middle;\n",
              "    }\n",
              "\n",
              "    .dataframe tbody tr th {\n",
              "        vertical-align: top;\n",
              "    }\n",
              "\n",
              "    .dataframe thead th {\n",
              "        text-align: right;\n",
              "    }\n",
              "</style>\n",
              "<table border=\"1\" class=\"dataframe\">\n",
              "  <thead>\n",
              "    <tr style=\"text-align: right;\">\n",
              "      <th></th>\n",
              "      <th>STORY</th>\n",
              "      <th>SECTION</th>\n",
              "      <th>Category</th>\n",
              "    </tr>\n",
              "  </thead>\n",
              "  <tbody>\n",
              "    <tr>\n",
              "      <th>0</th>\n",
              "      <td>But the most painful was the huge reversal in ...</td>\n",
              "      <td>3</td>\n",
              "      <td>3</td>\n",
              "    </tr>\n",
              "    <tr>\n",
              "      <th>1</th>\n",
              "      <td>How formidable is the opposition alliance amon...</td>\n",
              "      <td>0</td>\n",
              "      <td>0</td>\n",
              "    </tr>\n",
              "    <tr>\n",
              "      <th>2</th>\n",
              "      <td>Most Asian currencies were trading lower today...</td>\n",
              "      <td>3</td>\n",
              "      <td>3</td>\n",
              "    </tr>\n",
              "    <tr>\n",
              "      <th>3</th>\n",
              "      <td>If you want to answer any question, click on ‘...</td>\n",
              "      <td>1</td>\n",
              "      <td>1</td>\n",
              "    </tr>\n",
              "    <tr>\n",
              "      <th>4</th>\n",
              "      <td>In global markets, gold prices edged up today ...</td>\n",
              "      <td>3</td>\n",
              "      <td>3</td>\n",
              "    </tr>\n",
              "    <tr>\n",
              "      <th>...</th>\n",
              "      <td>...</td>\n",
              "      <td>...</td>\n",
              "      <td>...</td>\n",
              "    </tr>\n",
              "    <tr>\n",
              "      <th>7623</th>\n",
              "      <td>Karnataka has been a Congress bastion, but it ...</td>\n",
              "      <td>0</td>\n",
              "      <td>0</td>\n",
              "    </tr>\n",
              "    <tr>\n",
              "      <th>7624</th>\n",
              "      <td>The film, which also features Janhvi Kapoor, w...</td>\n",
              "      <td>2</td>\n",
              "      <td>2</td>\n",
              "    </tr>\n",
              "    <tr>\n",
              "      <th>7625</th>\n",
              "      <td>The database has been created after bringing t...</td>\n",
              "      <td>1</td>\n",
              "      <td>1</td>\n",
              "    </tr>\n",
              "    <tr>\n",
              "      <th>7626</th>\n",
              "      <td>The state, which has had an uneasy relationshi...</td>\n",
              "      <td>0</td>\n",
              "      <td>0</td>\n",
              "    </tr>\n",
              "    <tr>\n",
              "      <th>7627</th>\n",
              "      <td>Virus stars Kunchacko Boban, Tovino Thomas, In...</td>\n",
              "      <td>2</td>\n",
              "      <td>2</td>\n",
              "    </tr>\n",
              "  </tbody>\n",
              "</table>\n",
              "<p>7628 rows × 3 columns</p>\n",
              "</div>"
            ],
            "text/plain": [
              "                                                  STORY  SECTION  Category\n",
              "0     But the most painful was the huge reversal in ...        3         3\n",
              "1     How formidable is the opposition alliance amon...        0         0\n",
              "2     Most Asian currencies were trading lower today...        3         3\n",
              "3     If you want to answer any question, click on ‘...        1         1\n",
              "4     In global markets, gold prices edged up today ...        3         3\n",
              "...                                                 ...      ...       ...\n",
              "7623  Karnataka has been a Congress bastion, but it ...        0         0\n",
              "7624  The film, which also features Janhvi Kapoor, w...        2         2\n",
              "7625  The database has been created after bringing t...        1         1\n",
              "7626  The state, which has had an uneasy relationshi...        0         0\n",
              "7627  Virus stars Kunchacko Boban, Tovino Thomas, In...        2         2\n",
              "\n",
              "[7628 rows x 3 columns]"
            ]
          },
          "metadata": {},
          "execution_count": 18
        }
      ]
    },
    {
      "cell_type": "code",
      "metadata": {
        "id": "Q60HceezaVYC"
      },
      "source": [
        "# adding category\n",
        "train = train.replace(rem)"
      ],
      "execution_count": 19,
      "outputs": []
    },
    {
      "cell_type": "code",
      "metadata": {
        "colab": {
          "base_uri": "https://localhost:8080/",
          "height": 413
        },
        "id": "UUBh4XVfaYAM",
        "outputId": "6334d5f3-8b70-412e-a5cb-785332a717c8"
      },
      "source": [
        "train"
      ],
      "execution_count": 20,
      "outputs": [
        {
          "output_type": "execute_result",
          "data": {
            "text/html": [
              "<div>\n",
              "<style scoped>\n",
              "    .dataframe tbody tr th:only-of-type {\n",
              "        vertical-align: middle;\n",
              "    }\n",
              "\n",
              "    .dataframe tbody tr th {\n",
              "        vertical-align: top;\n",
              "    }\n",
              "\n",
              "    .dataframe thead th {\n",
              "        text-align: right;\n",
              "    }\n",
              "</style>\n",
              "<table border=\"1\" class=\"dataframe\">\n",
              "  <thead>\n",
              "    <tr style=\"text-align: right;\">\n",
              "      <th></th>\n",
              "      <th>STORY</th>\n",
              "      <th>SECTION</th>\n",
              "      <th>Category</th>\n",
              "    </tr>\n",
              "  </thead>\n",
              "  <tbody>\n",
              "    <tr>\n",
              "      <th>0</th>\n",
              "      <td>But the most painful was the huge reversal in ...</td>\n",
              "      <td>3</td>\n",
              "      <td>Business</td>\n",
              "    </tr>\n",
              "    <tr>\n",
              "      <th>1</th>\n",
              "      <td>How formidable is the opposition alliance amon...</td>\n",
              "      <td>0</td>\n",
              "      <td>Politics</td>\n",
              "    </tr>\n",
              "    <tr>\n",
              "      <th>2</th>\n",
              "      <td>Most Asian currencies were trading lower today...</td>\n",
              "      <td>3</td>\n",
              "      <td>Business</td>\n",
              "    </tr>\n",
              "    <tr>\n",
              "      <th>3</th>\n",
              "      <td>If you want to answer any question, click on ‘...</td>\n",
              "      <td>1</td>\n",
              "      <td>Technology</td>\n",
              "    </tr>\n",
              "    <tr>\n",
              "      <th>4</th>\n",
              "      <td>In global markets, gold prices edged up today ...</td>\n",
              "      <td>3</td>\n",
              "      <td>Business</td>\n",
              "    </tr>\n",
              "    <tr>\n",
              "      <th>...</th>\n",
              "      <td>...</td>\n",
              "      <td>...</td>\n",
              "      <td>...</td>\n",
              "    </tr>\n",
              "    <tr>\n",
              "      <th>7623</th>\n",
              "      <td>Karnataka has been a Congress bastion, but it ...</td>\n",
              "      <td>0</td>\n",
              "      <td>Politics</td>\n",
              "    </tr>\n",
              "    <tr>\n",
              "      <th>7624</th>\n",
              "      <td>The film, which also features Janhvi Kapoor, w...</td>\n",
              "      <td>2</td>\n",
              "      <td>Entertainment</td>\n",
              "    </tr>\n",
              "    <tr>\n",
              "      <th>7625</th>\n",
              "      <td>The database has been created after bringing t...</td>\n",
              "      <td>1</td>\n",
              "      <td>Technology</td>\n",
              "    </tr>\n",
              "    <tr>\n",
              "      <th>7626</th>\n",
              "      <td>The state, which has had an uneasy relationshi...</td>\n",
              "      <td>0</td>\n",
              "      <td>Politics</td>\n",
              "    </tr>\n",
              "    <tr>\n",
              "      <th>7627</th>\n",
              "      <td>Virus stars Kunchacko Boban, Tovino Thomas, In...</td>\n",
              "      <td>2</td>\n",
              "      <td>Entertainment</td>\n",
              "    </tr>\n",
              "  </tbody>\n",
              "</table>\n",
              "<p>7628 rows × 3 columns</p>\n",
              "</div>"
            ],
            "text/plain": [
              "                                                  STORY  SECTION       Category\n",
              "0     But the most painful was the huge reversal in ...        3       Business\n",
              "1     How formidable is the opposition alliance amon...        0       Politics\n",
              "2     Most Asian currencies were trading lower today...        3       Business\n",
              "3     If you want to answer any question, click on ‘...        1     Technology\n",
              "4     In global markets, gold prices edged up today ...        3       Business\n",
              "...                                                 ...      ...            ...\n",
              "7623  Karnataka has been a Congress bastion, but it ...        0       Politics\n",
              "7624  The film, which also features Janhvi Kapoor, w...        2  Entertainment\n",
              "7625  The database has been created after bringing t...        1     Technology\n",
              "7626  The state, which has had an uneasy relationshi...        0       Politics\n",
              "7627  Virus stars Kunchacko Boban, Tovino Thomas, In...        2  Entertainment\n",
              "\n",
              "[7628 rows x 3 columns]"
            ]
          },
          "metadata": {},
          "execution_count": 20
        }
      ]
    },
    {
      "cell_type": "code",
      "metadata": {
        "id": "R-oPDM7wV1Hj"
      },
      "source": [
        "#fake news from phase one to predict category of news\n",
        "test1 = pd.read_csv('./test1.csv')"
      ],
      "execution_count": 31,
      "outputs": []
    },
    {
      "cell_type": "code",
      "metadata": {
        "id": "VaE88vAFXTu5"
      },
      "source": [
        "# modifying the test data extracted from phase one to match the columns in training data with categories\n",
        "test1=test1.rename(columns={'text':'STORY'})"
      ],
      "execution_count": 32,
      "outputs": []
    },
    {
      "cell_type": "code",
      "metadata": {
        "id": "6tvDbvM7YI7H"
      },
      "source": [
        "test1=test1.drop(['id','title','author','label','news'],axis=1)"
      ],
      "execution_count": 33,
      "outputs": []
    },
    {
      "cell_type": "code",
      "metadata": {
        "colab": {
          "base_uri": "https://localhost:8080/",
          "height": 413
        },
        "id": "LCVEZ7VKYP_s",
        "outputId": "59118c9e-2a09-4fc3-bfea-129178355427"
      },
      "source": [
        "test1"
      ],
      "execution_count": 34,
      "outputs": [
        {
          "output_type": "execute_result",
          "data": {
            "text/html": [
              "<div>\n",
              "<style scoped>\n",
              "    .dataframe tbody tr th:only-of-type {\n",
              "        vertical-align: middle;\n",
              "    }\n",
              "\n",
              "    .dataframe tbody tr th {\n",
              "        vertical-align: top;\n",
              "    }\n",
              "\n",
              "    .dataframe thead th {\n",
              "        text-align: right;\n",
              "    }\n",
              "</style>\n",
              "<table border=\"1\" class=\"dataframe\">\n",
              "  <thead>\n",
              "    <tr style=\"text-align: right;\">\n",
              "      <th></th>\n",
              "      <th>Unnamed: 0</th>\n",
              "      <th>STORY</th>\n",
              "    </tr>\n",
              "  </thead>\n",
              "  <tbody>\n",
              "    <tr>\n",
              "      <th>0</th>\n",
              "      <td>1</td>\n",
              "      <td>Russian warships ready to strike terrorists ne...</td>\n",
              "    </tr>\n",
              "    <tr>\n",
              "      <th>1</th>\n",
              "      <td>2</td>\n",
              "      <td>Videos #NoDAPL: Native American Leaders Vow to...</td>\n",
              "    </tr>\n",
              "    <tr>\n",
              "      <th>2</th>\n",
              "      <td>4</td>\n",
              "      <td>42 mins ago 1 Views 0 Comments 0 Likes 'For th...</td>\n",
              "    </tr>\n",
              "    <tr>\n",
              "      <th>3</th>\n",
              "      <td>5</td>\n",
              "      <td>Trump is USA's antique hero. Clinton will be n...</td>\n",
              "    </tr>\n",
              "    <tr>\n",
              "      <th>4</th>\n",
              "      <td>7</td>\n",
              "      <td>You are here: Home / *Articles of the Bound* /...</td>\n",
              "    </tr>\n",
              "    <tr>\n",
              "      <th>...</th>\n",
              "      <td>...</td>\n",
              "      <td>...</td>\n",
              "    </tr>\n",
              "    <tr>\n",
              "      <th>2962</th>\n",
              "      <td>5189</td>\n",
              "      <td>11.23.2016 @4:17 PM EST More Establishment tie...</td>\n",
              "    </tr>\n",
              "    <tr>\n",
              "      <th>2963</th>\n",
              "      <td>5192</td>\n",
              "      <td>Earth To Ammosexuals: NRA Admits No One Is Com...</td>\n",
              "    </tr>\n",
              "    <tr>\n",
              "      <th>2964</th>\n",
              "      <td>5193</td>\n",
              "      <td>Public concern about faulty automobile airbags...</td>\n",
              "    </tr>\n",
              "    <tr>\n",
              "      <th>2965</th>\n",
              "      <td>5195</td>\n",
              "      <td>Of all the dysfunctions that plague the world’...</td>\n",
              "    </tr>\n",
              "    <tr>\n",
              "      <th>2966</th>\n",
              "      <td>5198</td>\n",
              "      <td>« Previous - Next » 300 US Marines To Be Deplo...</td>\n",
              "    </tr>\n",
              "  </tbody>\n",
              "</table>\n",
              "<p>2967 rows × 2 columns</p>\n",
              "</div>"
            ],
            "text/plain": [
              "      Unnamed: 0                                              STORY\n",
              "0              1  Russian warships ready to strike terrorists ne...\n",
              "1              2  Videos #NoDAPL: Native American Leaders Vow to...\n",
              "2              4  42 mins ago 1 Views 0 Comments 0 Likes 'For th...\n",
              "3              5  Trump is USA's antique hero. Clinton will be n...\n",
              "4              7  You are here: Home / *Articles of the Bound* /...\n",
              "...          ...                                                ...\n",
              "2962        5189  11.23.2016 @4:17 PM EST More Establishment tie...\n",
              "2963        5192  Earth To Ammosexuals: NRA Admits No One Is Com...\n",
              "2964        5193  Public concern about faulty automobile airbags...\n",
              "2965        5195  Of all the dysfunctions that plague the world’...\n",
              "2966        5198  « Previous - Next » 300 US Marines To Be Deplo...\n",
              "\n",
              "[2967 rows x 2 columns]"
            ]
          },
          "metadata": {},
          "execution_count": 34
        }
      ]
    },
    {
      "cell_type": "code",
      "metadata": {
        "id": "UEtJn8_zaqar"
      },
      "source": [
        "#Developing more features to train the model\n",
        "train['Text_length'] = train['STORY'].apply(len)\n",
        "train['words_counts']=train.STORY.str.split().map(lambda x: len(x))\n",
        "train['punctuation_count'] = train['STORY'].map(lambda x: len([c for c in str(x) if c in string.punctuation]))"
      ],
      "execution_count": 35,
      "outputs": []
    },
    {
      "cell_type": "code",
      "metadata": {
        "colab": {
          "base_uri": "https://localhost:8080/",
          "height": 1000
        },
        "id": "0GD7rPTRdBYh",
        "outputId": "e6a250b6-db97-4ada-fdf6-1feb575123e7"
      },
      "source": [
        "train "
      ],
      "execution_count": 36,
      "outputs": [
        {
          "output_type": "execute_result",
          "data": {
            "text/html": [
              "<div>\n",
              "<style scoped>\n",
              "    .dataframe tbody tr th:only-of-type {\n",
              "        vertical-align: middle;\n",
              "    }\n",
              "\n",
              "    .dataframe tbody tr th {\n",
              "        vertical-align: top;\n",
              "    }\n",
              "\n",
              "    .dataframe thead th {\n",
              "        text-align: right;\n",
              "    }\n",
              "</style>\n",
              "<table border=\"1\" class=\"dataframe\">\n",
              "  <thead>\n",
              "    <tr style=\"text-align: right;\">\n",
              "      <th></th>\n",
              "      <th>STORY</th>\n",
              "      <th>SECTION</th>\n",
              "      <th>Category</th>\n",
              "      <th>Text_length</th>\n",
              "      <th>words_counts</th>\n",
              "      <th>punctuation_count</th>\n",
              "    </tr>\n",
              "  </thead>\n",
              "  <tbody>\n",
              "    <tr>\n",
              "      <th>0</th>\n",
              "      <td>But the most painful was the huge reversal in ...</td>\n",
              "      <td>3</td>\n",
              "      <td>Business</td>\n",
              "      <td>843</td>\n",
              "      <td>148</td>\n",
              "      <td>12</td>\n",
              "    </tr>\n",
              "    <tr>\n",
              "      <th>1</th>\n",
              "      <td>How formidable is the opposition alliance amon...</td>\n",
              "      <td>0</td>\n",
              "      <td>Politics</td>\n",
              "      <td>129</td>\n",
              "      <td>17</td>\n",
              "      <td>6</td>\n",
              "    </tr>\n",
              "    <tr>\n",
              "      <th>2</th>\n",
              "      <td>Most Asian currencies were trading lower today...</td>\n",
              "      <td>3</td>\n",
              "      <td>Business</td>\n",
              "      <td>386</td>\n",
              "      <td>58</td>\n",
              "      <td>31</td>\n",
              "    </tr>\n",
              "    <tr>\n",
              "      <th>3</th>\n",
              "      <td>If you want to answer any question, click on ‘...</td>\n",
              "      <td>1</td>\n",
              "      <td>Technology</td>\n",
              "      <td>587</td>\n",
              "      <td>103</td>\n",
              "      <td>12</td>\n",
              "    </tr>\n",
              "    <tr>\n",
              "      <th>4</th>\n",
              "      <td>In global markets, gold prices edged up today ...</td>\n",
              "      <td>3</td>\n",
              "      <td>Business</td>\n",
              "      <td>299</td>\n",
              "      <td>46</td>\n",
              "      <td>10</td>\n",
              "    </tr>\n",
              "    <tr>\n",
              "      <th>...</th>\n",
              "      <td>...</td>\n",
              "      <td>...</td>\n",
              "      <td>...</td>\n",
              "      <td>...</td>\n",
              "      <td>...</td>\n",
              "      <td>...</td>\n",
              "    </tr>\n",
              "    <tr>\n",
              "      <th>7623</th>\n",
              "      <td>Karnataka has been a Congress bastion, but it ...</td>\n",
              "      <td>0</td>\n",
              "      <td>Politics</td>\n",
              "      <td>394</td>\n",
              "      <td>63</td>\n",
              "      <td>9</td>\n",
              "    </tr>\n",
              "    <tr>\n",
              "      <th>7624</th>\n",
              "      <td>The film, which also features Janhvi Kapoor, w...</td>\n",
              "      <td>2</td>\n",
              "      <td>Entertainment</td>\n",
              "      <td>136</td>\n",
              "      <td>24</td>\n",
              "      <td>2</td>\n",
              "    </tr>\n",
              "    <tr>\n",
              "      <th>7625</th>\n",
              "      <td>The database has been created after bringing t...</td>\n",
              "      <td>1</td>\n",
              "      <td>Technology</td>\n",
              "      <td>484</td>\n",
              "      <td>75</td>\n",
              "      <td>10</td>\n",
              "    </tr>\n",
              "    <tr>\n",
              "      <th>7626</th>\n",
              "      <td>The state, which has had an uneasy relationshi...</td>\n",
              "      <td>0</td>\n",
              "      <td>Politics</td>\n",
              "      <td>1927</td>\n",
              "      <td>308</td>\n",
              "      <td>54</td>\n",
              "    </tr>\n",
              "    <tr>\n",
              "      <th>7627</th>\n",
              "      <td>Virus stars Kunchacko Boban, Tovino Thomas, In...</td>\n",
              "      <td>2</td>\n",
              "      <td>Entertainment</td>\n",
              "      <td>286</td>\n",
              "      <td>36</td>\n",
              "      <td>16</td>\n",
              "    </tr>\n",
              "  </tbody>\n",
              "</table>\n",
              "<p>7628 rows × 6 columns</p>\n",
              "</div>"
            ],
            "text/plain": [
              "                                                  STORY  ...  punctuation_count\n",
              "0     But the most painful was the huge reversal in ...  ...                 12\n",
              "1     How formidable is the opposition alliance amon...  ...                  6\n",
              "2     Most Asian currencies were trading lower today...  ...                 31\n",
              "3     If you want to answer any question, click on ‘...  ...                 12\n",
              "4     In global markets, gold prices edged up today ...  ...                 10\n",
              "...                                                 ...  ...                ...\n",
              "7623  Karnataka has been a Congress bastion, but it ...  ...                  9\n",
              "7624  The film, which also features Janhvi Kapoor, w...  ...                  2\n",
              "7625  The database has been created after bringing t...  ...                 10\n",
              "7626  The state, which has had an uneasy relationshi...  ...                 54\n",
              "7627  Virus stars Kunchacko Boban, Tovino Thomas, In...  ...                 16\n",
              "\n",
              "[7628 rows x 6 columns]"
            ]
          },
          "metadata": {},
          "execution_count": 36
        }
      ]
    },
    {
      "cell_type": "code",
      "source": [
        "test1.STORY"
      ],
      "metadata": {
        "colab": {
          "base_uri": "https://localhost:8080/"
        },
        "id": "IIaSI2NOlWKJ",
        "outputId": "8b099a93-07bc-436c-8eca-06d38cda5270"
      },
      "execution_count": 37,
      "outputs": [
        {
          "output_type": "execute_result",
          "data": {
            "text/plain": [
              "0       Russian warships ready to strike terrorists ne...\n",
              "1       Videos #NoDAPL: Native American Leaders Vow to...\n",
              "2       42 mins ago 1 Views 0 Comments 0 Likes 'For th...\n",
              "3       Trump is USA's antique hero. Clinton will be n...\n",
              "4       You are here: Home / *Articles of the Bound* /...\n",
              "                              ...                        \n",
              "2962    11.23.2016 @4:17 PM EST More Establishment tie...\n",
              "2963    Earth To Ammosexuals: NRA Admits No One Is Com...\n",
              "2964    Public concern about faulty automobile airbags...\n",
              "2965    Of all the dysfunctions that plague the world’...\n",
              "2966    « Previous - Next » 300 US Marines To Be Deplo...\n",
              "Name: STORY, Length: 2967, dtype: object"
            ]
          },
          "metadata": {},
          "execution_count": 37
        }
      ]
    },
    {
      "cell_type": "code",
      "source": [
        "train.STORY"
      ],
      "metadata": {
        "colab": {
          "base_uri": "https://localhost:8080/"
        },
        "id": "TtazPwBBleoN",
        "outputId": "69cb5163-2561-44a9-ff42-207dbdc4a8be"
      },
      "execution_count": 38,
      "outputs": [
        {
          "output_type": "execute_result",
          "data": {
            "text/plain": [
              "0       But the most painful was the huge reversal in ...\n",
              "1       How formidable is the opposition alliance amon...\n",
              "2       Most Asian currencies were trading lower today...\n",
              "3       If you want to answer any question, click on ‘...\n",
              "4       In global markets, gold prices edged up today ...\n",
              "                              ...                        \n",
              "7623    Karnataka has been a Congress bastion, but it ...\n",
              "7624    The film, which also features Janhvi Kapoor, w...\n",
              "7625    The database has been created after bringing t...\n",
              "7626    The state, which has had an uneasy relationshi...\n",
              "7627    Virus stars Kunchacko Boban, Tovino Thomas, In...\n",
              "Name: STORY, Length: 7628, dtype: object"
            ]
          },
          "metadata": {},
          "execution_count": 38
        }
      ]
    },
    {
      "cell_type": "code",
      "metadata": {
        "id": "fdIDjQV7dJeu"
      },
      "source": [
        "#data cleaning\n",
        "def clean_text(text):\n",
        "    text = text.lower()                                  # lower-case all characters\n",
        "    text =  re.sub(r'@\\S+', '',text)                     # remove twitter handles\n",
        "    text =  re.sub(r'http\\S+', '',text)                  # remove urls\n",
        "    text =  re.sub(r'pic.\\S+', '',text) \n",
        "    text =  re.sub(r\"[^a-zA-Z+']\", ' ',text)             # only keeps characters\n",
        "    text = re.sub(r'\\s+[a-zA-Z]\\s+', ' ', text+' ')      # keep words with length>1 only\n",
        "    text = text.lower()\n",
        "    text = \"\".join([i for i in text if i not in string.punctuation])\n",
        "    words = nltk.tokenize.word_tokenize(text)\n",
        "    stopwords = nltk.corpus.stopwords.words('english')   # remove stopwords\n",
        "    text = \" \".join([i for i in words if i not in stopwords and len(i)>2])\n",
        "    text= re.sub(\"\\s[\\s]+\", \" \",text).strip()            # remove repeated/leading/trailing spaces\n",
        "    return text"
      ],
      "execution_count": 39,
      "outputs": []
    },
    {
      "cell_type": "code",
      "metadata": {
        "id": "NqLhZLend2iN"
      },
      "source": [
        "train.STORY = train.STORY.apply(clean_text)"
      ],
      "execution_count": 40,
      "outputs": []
    },
    {
      "cell_type": "code",
      "source": [
        "train.dtypes"
      ],
      "metadata": {
        "colab": {
          "base_uri": "https://localhost:8080/"
        },
        "id": "1WqhB15wm_y2",
        "outputId": "176c0a90-23c2-4895-b182-8f048bf7790e"
      },
      "execution_count": 41,
      "outputs": [
        {
          "output_type": "execute_result",
          "data": {
            "text/plain": [
              "STORY                object\n",
              "SECTION               int64\n",
              "Category             object\n",
              "Text_length           int64\n",
              "words_counts          int64\n",
              "punctuation_count     int64\n",
              "dtype: object"
            ]
          },
          "metadata": {},
          "execution_count": 41
        }
      ]
    },
    {
      "cell_type": "code",
      "source": [
        "test1.dtypes"
      ],
      "metadata": {
        "colab": {
          "base_uri": "https://localhost:8080/"
        },
        "id": "S4P7RmI3nHLh",
        "outputId": "e5c953c9-5cb9-4b80-9665-e9d24699a86d"
      },
      "execution_count": 42,
      "outputs": [
        {
          "output_type": "execute_result",
          "data": {
            "text/plain": [
              "Unnamed: 0     int64\n",
              "STORY         object\n",
              "dtype: object"
            ]
          },
          "metadata": {},
          "execution_count": 42
        }
      ]
    },
    {
      "cell_type": "code",
      "source": [
        "train.shape"
      ],
      "metadata": {
        "colab": {
          "base_uri": "https://localhost:8080/"
        },
        "id": "e4T0QN5zz0Wu",
        "outputId": "032f6a23-7fb6-434f-8b77-918a9649fc78"
      },
      "execution_count": 43,
      "outputs": [
        {
          "output_type": "execute_result",
          "data": {
            "text/plain": [
              "(7628, 6)"
            ]
          },
          "metadata": {},
          "execution_count": 43
        }
      ]
    },
    {
      "cell_type": "code",
      "source": [
        "test1.shape"
      ],
      "metadata": {
        "colab": {
          "base_uri": "https://localhost:8080/"
        },
        "id": "ab7pu2bIz3fV",
        "outputId": "6bbda776-1474-404f-840b-cea9c34b211a"
      },
      "execution_count": 44,
      "outputs": [
        {
          "output_type": "execute_result",
          "data": {
            "text/plain": [
              "(2967, 2)"
            ]
          },
          "metadata": {},
          "execution_count": 44
        }
      ]
    },
    {
      "cell_type": "code",
      "source": [
        "#Adding features\n",
        "test1['Text_length'] = test1['STORY'].apply(len)\n",
        "test1['words_counts']=test1.STORY.str.split().map(lambda x: len(x))\n",
        "test1['punctuation_count'] = test1['STORY'].map(lambda x: len([c for c in str(x) if c in string.punctuation]))"
      ],
      "metadata": {
        "id": "11Hcjx2jx_U2"
      },
      "execution_count": 45,
      "outputs": []
    },
    {
      "cell_type": "code",
      "source": [
        "test['Text_length'] = test['STORY'].apply(len)\n",
        "test['words_counts']=test.STORY.str.split().map(lambda x: len(x))\n",
        "test['punctuation_count'] = test['STORY'].map(lambda x: len([c for c in str(x) if c in string.punctuation]))"
      ],
      "metadata": {
        "id": "8ykzIDnp2PzR"
      },
      "execution_count": 46,
      "outputs": []
    },
    {
      "cell_type": "code",
      "source": [
        "test1.STORY = test1.STORY.apply(clean_text)"
      ],
      "metadata": {
        "id": "ZhUr-AFspzEq"
      },
      "execution_count": 47,
      "outputs": []
    },
    {
      "cell_type": "code",
      "source": [
        "test.STORY = test.STORY.apply(clean_text)"
      ],
      "metadata": {
        "id": "SMrE2MzI2Y5R"
      },
      "execution_count": 48,
      "outputs": []
    },
    {
      "cell_type": "code",
      "source": [
        "test1.STORY = test1.STORY.astype(str)"
      ],
      "metadata": {
        "id": "VRIGJ7crlEtN"
      },
      "execution_count": 49,
      "outputs": []
    },
    {
      "cell_type": "code",
      "source": [
        "test1.Text_length=test1.STORY.apply(len)"
      ],
      "metadata": {
        "id": "XvM_Me9m5kCH"
      },
      "execution_count": 50,
      "outputs": []
    },
    {
      "cell_type": "code",
      "metadata": {
        "colab": {
          "base_uri": "https://localhost:8080/",
          "height": 700
        },
        "id": "KrOiDrsRfGjE",
        "outputId": "d73a9c77-bfdd-4beb-c4b2-6b3143f1c997"
      },
      "source": [
        "train.Text_length=train.STORY.apply(len)\n",
        "train.head()"
      ],
      "execution_count": 51,
      "outputs": [
        {
          "output_type": "execute_result",
          "data": {
            "text/html": [
              "<div>\n",
              "<style scoped>\n",
              "    .dataframe tbody tr th:only-of-type {\n",
              "        vertical-align: middle;\n",
              "    }\n",
              "\n",
              "    .dataframe tbody tr th {\n",
              "        vertical-align: top;\n",
              "    }\n",
              "\n",
              "    .dataframe thead th {\n",
              "        text-align: right;\n",
              "    }\n",
              "</style>\n",
              "<table border=\"1\" class=\"dataframe\">\n",
              "  <thead>\n",
              "    <tr style=\"text-align: right;\">\n",
              "      <th></th>\n",
              "      <th>STORY</th>\n",
              "      <th>SECTION</th>\n",
              "      <th>Category</th>\n",
              "      <th>Text_length</th>\n",
              "      <th>words_counts</th>\n",
              "      <th>punctuation_count</th>\n",
              "    </tr>\n",
              "  </thead>\n",
              "  <tbody>\n",
              "    <tr>\n",
              "      <th>0</th>\n",
              "      <td>painful huge reversal fee income unheard among...</td>\n",
              "      <td>3</td>\n",
              "      <td>Business</td>\n",
              "      <td>573</td>\n",
              "      <td>148</td>\n",
              "      <td>12</td>\n",
              "    </tr>\n",
              "    <tr>\n",
              "      <th>1</th>\n",
              "      <td>formidable opposition alliance among congress ...</td>\n",
              "      <td>0</td>\n",
              "      <td>Politics</td>\n",
              "      <td>108</td>\n",
              "      <td>17</td>\n",
              "      <td>6</td>\n",
              "    </tr>\n",
              "    <tr>\n",
              "      <th>2</th>\n",
              "      <td>asian currencies trading lower today south kor...</td>\n",
              "      <td>3</td>\n",
              "      <td>Business</td>\n",
              "      <td>230</td>\n",
              "      <td>58</td>\n",
              "      <td>31</td>\n",
              "    </tr>\n",
              "    <tr>\n",
              "      <th>3</th>\n",
              "      <td>want answer question click answer clicking ans...</td>\n",
              "      <td>1</td>\n",
              "      <td>Technology</td>\n",
              "      <td>360</td>\n",
              "      <td>103</td>\n",
              "      <td>12</td>\n",
              "    </tr>\n",
              "    <tr>\n",
              "      <th>4</th>\n",
              "      <td>global markets gold prices edged today disappo...</td>\n",
              "      <td>3</td>\n",
              "      <td>Business</td>\n",
              "      <td>247</td>\n",
              "      <td>46</td>\n",
              "      <td>10</td>\n",
              "    </tr>\n",
              "  </tbody>\n",
              "</table>\n",
              "</div>"
            ],
            "text/plain": [
              "                                               STORY  ...  punctuation_count\n",
              "0  painful huge reversal fee income unheard among...  ...                 12\n",
              "1  formidable opposition alliance among congress ...  ...                  6\n",
              "2  asian currencies trading lower today south kor...  ...                 31\n",
              "3  want answer question click answer clicking ans...  ...                 12\n",
              "4  global markets gold prices edged today disappo...  ...                 10\n",
              "\n",
              "[5 rows x 6 columns]"
            ]
          },
          "metadata": {},
          "execution_count": 51
        }
      ]
    },
    {
      "cell_type": "code",
      "metadata": {
        "id": "rqgMAPuIfTyP"
      },
      "source": [
        "#Vectorisation\n",
        "vectorizer = TfidfVectorizer()\n",
        "data_vectorizer = vectorizer.fit_transform(train['STORY'])\n",
        "test1_vector = vectorizer.transform(test1['STORY'])\n",
        "test_vector = vectorizer.transform(test['STORY'])"
      ],
      "execution_count": 52,
      "outputs": []
    },
    {
      "cell_type": "code",
      "source": [
        "test_vector.shape"
      ],
      "metadata": {
        "colab": {
          "base_uri": "https://localhost:8080/"
        },
        "id": "J754AE1hxSyW",
        "outputId": "7216f8b5-6308-4087-8bd6-1093123a71be"
      },
      "execution_count": 53,
      "outputs": [
        {
          "output_type": "execute_result",
          "data": {
            "text/plain": [
              "(2748, 30696)"
            ]
          },
          "metadata": {},
          "execution_count": 53
        }
      ]
    },
    {
      "cell_type": "code",
      "source": [
        "test1_vector.shape"
      ],
      "metadata": {
        "colab": {
          "base_uri": "https://localhost:8080/"
        },
        "id": "s6fwl0Mr5u-m",
        "outputId": "1e961c05-a675-4c42-db4d-d335ff4987ff"
      },
      "execution_count": 54,
      "outputs": [
        {
          "output_type": "execute_result",
          "data": {
            "text/plain": [
              "(2967, 30696)"
            ]
          },
          "metadata": {},
          "execution_count": 54
        }
      ]
    },
    {
      "cell_type": "code",
      "source": [
        "data_vectorizer.shape"
      ],
      "metadata": {
        "colab": {
          "base_uri": "https://localhost:8080/"
        },
        "id": "FAAyS4d7xWmx",
        "outputId": "6bdd21fd-37a1-4132-f5a0-e943109b4b1f"
      },
      "execution_count": 55,
      "outputs": [
        {
          "output_type": "execute_result",
          "data": {
            "text/plain": [
              "(7628, 30696)"
            ]
          },
          "metadata": {},
          "execution_count": 55
        }
      ]
    },
    {
      "cell_type": "code",
      "metadata": {
        "id": "dKpcNXbLfdCo"
      },
      "source": [
        "label = train['SECTION']"
      ],
      "execution_count": 56,
      "outputs": []
    },
    {
      "cell_type": "code",
      "metadata": {
        "id": "SvJJDErRfwIx"
      },
      "source": [
        "#Test train split to evaluate performance of models\n",
        "X_train, X_test, y_train, y_test = train_test_split(data_vectorizer, label, test_size=0.2, random_state=42)"
      ],
      "execution_count": 57,
      "outputs": []
    },
    {
      "cell_type": "code",
      "metadata": {
        "id": "Mk72rwxQf1z0"
      },
      "source": [
        "def model(name_model):\n",
        "    a = name_model()\n",
        "    a.fit(X_train,y_train)\n",
        "    y_pred = a.predict(X_test)\n",
        "    original = a.predict(test_vector)\n",
        "    output = a.predict(test1_vector)\n",
        "    Acc_train = a.score(X_train, y_train)\n",
        "    acc_test = a.score(X_test, y_test)\n",
        "    print('Train Accuracy : {:.2f}%'.format(Acc_train*100))\n",
        "    print('Test Accuracy  : {:.2f}%'.format(acc_test*100))\n",
        "    print('******** Classification Report ***************')\n",
        "    print(classification_report(y_test, y_pred,target_names=my_Category))"
      ],
      "execution_count": 120,
      "outputs": []
    },
    {
      "cell_type": "code",
      "source": [
        "rfclassifier = RandomForestClassifier(n_estimators=500)"
      ],
      "metadata": {
        "id": "t5LOnhu8ubBh"
      },
      "execution_count": 58,
      "outputs": []
    },
    {
      "cell_type": "code",
      "source": [
        "rfclasssifier_train = rfclassifier.fit(X_train,y_train)"
      ],
      "metadata": {
        "id": "10MAvgVguPnm"
      },
      "execution_count": 59,
      "outputs": []
    },
    {
      "cell_type": "code",
      "source": [
        "y_pred = rfclassifier.predict(X_test)"
      ],
      "metadata": {
        "id": "S8hJ_9b7u99c"
      },
      "execution_count": 60,
      "outputs": []
    },
    {
      "cell_type": "code",
      "source": [
        "Acc_train = rfclassifier.score(X_train, y_train)\n",
        "acc_test = rfclassifier.score(X_test, y_test)"
      ],
      "metadata": {
        "id": "StXXKwQTvVjU"
      },
      "execution_count": 61,
      "outputs": []
    },
    {
      "cell_type": "code",
      "source": [
        "my_Category =['Politics','Technology','Entertainment','Business']"
      ],
      "metadata": {
        "id": "-I6peegnd8hp"
      },
      "execution_count": 66,
      "outputs": []
    },
    {
      "cell_type": "code",
      "source": [
        "print('Train Accuracy : {:.2f}%'.format(Acc_train*100))\n",
        "print('Test Accuracy  : {:.2f}%'.format(acc_test*100))\n",
        "print(classification_report(y_test, y_pred,target_names=my_Category))\n",
        "print('******** Classification Report ***************')"
      ],
      "metadata": {
        "colab": {
          "base_uri": "https://localhost:8080/"
        },
        "id": "3QGtEISTvw5_",
        "outputId": "12666354-dabc-463b-cabd-31da4b53f9f3"
      },
      "execution_count": 67,
      "outputs": [
        {
          "output_type": "stream",
          "name": "stdout",
          "text": [
            "Train Accuracy : 99.77%\n",
            "Test Accuracy  : 95.15%\n",
            "               precision    recall  f1-score   support\n",
            "\n",
            "     Politics       0.96      0.92      0.94       323\n",
            "   Technology       0.95      0.96      0.96       549\n",
            "Entertainment       0.94      0.97      0.95       402\n",
            "     Business       0.96      0.93      0.95       252\n",
            "\n",
            "     accuracy                           0.95      1526\n",
            "    macro avg       0.95      0.95      0.95      1526\n",
            " weighted avg       0.95      0.95      0.95      1526\n",
            "\n",
            "******** Classification Report ***************\n"
          ]
        }
      ]
    },
    {
      "cell_type": "code",
      "source": [
        "output = rfclassifier.predict(test1_vector)"
      ],
      "metadata": {
        "id": "Ma-U7cygwSiw"
      },
      "execution_count": 68,
      "outputs": []
    },
    {
      "cell_type": "code",
      "source": [
        "output"
      ],
      "metadata": {
        "colab": {
          "base_uri": "https://localhost:8080/"
        },
        "id": "d8jEmwK_8-Ft",
        "outputId": "0ddf56e4-5fb1-4c03-ca84-267afac7ab0a"
      },
      "execution_count": 69,
      "outputs": [
        {
          "output_type": "execute_result",
          "data": {
            "text/plain": [
              "array([1, 1, 2, ..., 1, 2, 0])"
            ]
          },
          "metadata": {},
          "execution_count": 69
        }
      ]
    },
    {
      "cell_type": "code",
      "source": [
        "#function to group the output generated by multiclassification to get the categories\n",
        "def group_list(lst):\n",
        "      \n",
        "    res =  [(el, lst.count(el)) for el in lst]\n",
        "    return list(OrderedDict(res).items())"
      ],
      "metadata": {
        "id": "l_zZRZAKChwh"
      },
      "execution_count": 70,
      "outputs": []
    },
    {
      "cell_type": "code",
      "source": [
        "from collections import OrderedDict"
      ],
      "metadata": {
        "id": "3_0aMYPZGPzu"
      },
      "execution_count": 71,
      "outputs": []
    },
    {
      "cell_type": "code",
      "source": [
        "lst = output.tolist()"
      ],
      "metadata": {
        "id": "iB1nQSQmFe5O"
      },
      "execution_count": 72,
      "outputs": []
    },
    {
      "cell_type": "code",
      "source": [
        "b=group_list(lst)"
      ],
      "metadata": {
        "id": "cmFgiOp6GEze"
      },
      "execution_count": 81,
      "outputs": []
    },
    {
      "cell_type": "code",
      "source": [
        "b"
      ],
      "metadata": {
        "colab": {
          "base_uri": "https://localhost:8080/"
        },
        "id": "Z7PHZWQfk0Pt",
        "outputId": "4ff0a23a-b9f4-44f7-c97e-707654f07449"
      },
      "execution_count": 83,
      "outputs": [
        {
          "output_type": "execute_result",
          "data": {
            "text/plain": [
              "[(1, 978), (2, 848), (0, 1067), (3, 74)]"
            ]
          },
          "metadata": {},
          "execution_count": 83
        }
      ]
    },
    {
      "cell_type": "code",
      "source": [
        "labels = []\n",
        "Articles =[]"
      ],
      "metadata": {
        "id": "qIZzcw8uk2Nv"
      },
      "execution_count": 107,
      "outputs": []
    },
    {
      "cell_type": "code",
      "source": [
        "rem = {\"Category\": {0: \"Politics\", 1: \"Technology\", 2:\"Entertainment\", 3:\"Business\"}}"
      ],
      "metadata": {
        "id": "Z5rOMVihkaam"
      },
      "execution_count": null,
      "outputs": []
    },
    {
      "cell_type": "code",
      "source": [
        "for x,y in b:\n",
        "  if x==1:\n",
        "    labels.append(\"Technology\")\n",
        "  if x==0:\n",
        "    labels.append(\"Politics\")\n",
        "  if x==2:\n",
        "    labels.append(\"Entertainment\")\n",
        "  if x==3:\n",
        "    labels.append(\"Business\")\n",
        "  Articles.append(y)"
      ],
      "metadata": {
        "id": "cEFTAlc6e39m"
      },
      "execution_count": 108,
      "outputs": []
    },
    {
      "cell_type": "code",
      "source": [
        "colors = ( \"orange\", \"cyan\", \"brown\",\"indigo\")\n",
        "def func(pct, allvalues):\n",
        "    absolute = int(pct / 100.*np.sum(allvalues))\n",
        "    return \"{:.1f}%\\n({:d})\".format(pct, absolute)\n",
        "fig, ax = plt.subplots(figsize =(10, 7))\n",
        "ax.set_title(\"Fake News in Each Category\")\n",
        "ax.pie(Articles,autopct = lambda pct: func(pct, Articles),labels = labels,colors = colors)\n",
        "plt.show()\n"
      ],
      "metadata": {
        "colab": {
          "base_uri": "https://localhost:8080/",
          "height": 427
        },
        "id": "eWjHmpkrqrcE",
        "outputId": "94df18e5-0190-4ab3-db54-a91f248ef497"
      },
      "execution_count": 118,
      "outputs": [
        {
          "output_type": "display_data",
          "data": {
            "image/png": "[encoded data removed]",
            "text/plain": [
              "<Figure size 720x504 with 1 Axes>"
            ]
          },
          "metadata": {}
        }
      ]
    },
    {
      "cell_type": "code",
      "source": [
        "from sklearn.linear_model import LogisticRegression\n",
        "model(LogisticRegression)"
      ],
      "metadata": {
        "colab": {
          "base_uri": "https://localhost:8080/"
        },
        "id": "UWQyvDbzGprE",
        "outputId": "05058100-8773-4bb5-ab18-6f1e6c090b7e"
      },
      "execution_count": 121,
      "outputs": [
        {
          "output_type": "stream",
          "name": "stdout",
          "text": [
            "Train Accuracy : 98.92%\n",
            "Test Accuracy  : 96.33%\n",
            "******** Classification Report ***************\n",
            "               precision    recall  f1-score   support\n",
            "\n",
            "     Politics       0.97      0.93      0.95       323\n",
            "   Technology       0.97      0.97      0.97       549\n",
            "Entertainment       0.94      0.98      0.96       402\n",
            "     Business       0.96      0.96      0.96       252\n",
            "\n",
            "     accuracy                           0.96      1526\n",
            "    macro avg       0.96      0.96      0.96      1526\n",
            " weighted avg       0.96      0.96      0.96      1526\n",
            "\n"
          ]
        }
      ]
    },
    {
      "cell_type": "code",
      "source": [
        "group_list(output.tolist())"
      ],
      "metadata": {
        "colab": {
          "base_uri": "https://localhost:8080/"
        },
        "id": "xlUllgJ1GRtf",
        "outputId": "96fe90e5-4197-4527-ce3c-620782190839"
      },
      "execution_count": 122,
      "outputs": [
        {
          "output_type": "execute_result",
          "data": {
            "text/plain": [
              "[(1, 978), (2, 848), (0, 1067), (3, 74)]"
            ]
          },
          "metadata": {},
          "execution_count": 122
        }
      ]
    },
    {
      "cell_type": "code",
      "source": [
        "from sklearn.ensemble import AdaBoostClassifier\n",
        "model(AdaBoostClassifier)"
      ],
      "metadata": {
        "colab": {
          "base_uri": "https://localhost:8080/"
        },
        "id": "pPj_igYnH0bM",
        "outputId": "539bbb8c-cf5a-4391-903b-21559a6b0849"
      },
      "execution_count": 123,
      "outputs": [
        {
          "output_type": "stream",
          "name": "stdout",
          "text": [
            "Train Accuracy : 87.20%\n",
            "Test Accuracy  : 86.44%\n",
            "******** Classification Report ***************\n",
            "               precision    recall  f1-score   support\n",
            "\n",
            "     Politics       0.94      0.86      0.90       323\n",
            "   Technology       0.92      0.81      0.86       549\n",
            "Entertainment       0.76      0.95      0.84       402\n",
            "     Business       0.88      0.86      0.87       252\n",
            "\n",
            "     accuracy                           0.86      1526\n",
            "    macro avg       0.87      0.87      0.87      1526\n",
            " weighted avg       0.88      0.86      0.87      1526\n",
            "\n"
          ]
        }
      ]
    },
    {
      "cell_type": "code",
      "source": [
        "group_list(output.tolist())"
      ],
      "metadata": {
        "colab": {
          "base_uri": "https://localhost:8080/"
        },
        "id": "ud-SwXiqIKqq",
        "outputId": "3789f3ed-fe9b-41c0-92e5-69219cf572eb"
      },
      "execution_count": 124,
      "outputs": [
        {
          "output_type": "execute_result",
          "data": {
            "text/plain": [
              "[(1, 978), (2, 848), (0, 1067), (3, 74)]"
            ]
          },
          "metadata": {},
          "execution_count": 124
        }
      ]
    }
  ]
}