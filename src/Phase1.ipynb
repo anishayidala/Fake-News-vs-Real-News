{
  "nbformat": 4,
  "nbformat_minor": 0,
  "metadata": {
    "colab": {
      "name": "Phase1.ipynb",
      "provenance": [],
      "collapsed_sections": []
    },
    "kernelspec": {
      "name": "python3",
      "display_name": "Python 3"
    },
    "language_info": {
      "name": "python"
    }
  },
  "cells": [
    {
      "cell_type": "code",
      "execution_count": 1,
      "metadata": {
        "id": "9P2u9Ic_hry5"
      },
      "outputs": [],
      "source": [
        "#importing libraries from wordcloud import WordCloud, STOPWORDS \n",
        "import matplotlib.pyplot as plt \n",
        "%matplotlib inline\n",
        "import numpy as np # linear algebra\n",
        "import pandas as pd #data processing\n",
        "import os\n",
        "import re\n",
        "import nltk\n",
        "from nltk.stem import WordNetLemmatizer\n",
        "from nltk.corpus import stopwords"
      ]
    },
    {
      "cell_type": "code",
      "source": [
        "from sklearn.model_selection import train_test_split"
      ],
      "metadata": {
        "id": "lr4Qav1HG2N6"
      },
      "execution_count": 57,
      "outputs": []
    },
    {
      "cell_type": "code",
      "source": [
        "from sklearn.feature_extraction.text import TfidfTransformer\n",
        "from sklearn.feature_extraction.text import CountVectorizer\n",
        "from sklearn.feature_extraction.text import TfidfVectorizer"
      ],
      "metadata": {
        "id": "3yBmEYt0mwz8"
      },
      "execution_count": 16,
      "outputs": []
    },
    {
      "cell_type": "code",
      "source": [
        "from sklearn.ensemble import  RandomForestClassifier\n",
        "from xgboost import XGBClassifier"
      ],
      "metadata": {
        "id": "KZmoo3o1-NMZ"
      },
      "execution_count": 27,
      "outputs": []
    },
    {
      "cell_type": "code",
      "source": [
        "from sklearn import metrics\n",
        "from sklearn.metrics import accuracy_score"
      ],
      "metadata": {
        "id": "PeLubQ53B523"
      },
      "execution_count": 69,
      "outputs": []
    },
    {
      "cell_type": "code",
      "source": [
        "from sklearn.naive_bayes import MultinomialNB"
      ],
      "metadata": {
        "id": "cmAiHrqF7bq8"
      },
      "execution_count": 88,
      "outputs": []
    },
    {
      "cell_type": "code",
      "source": [
        "import matplotlib.pyplot as plt"
      ],
      "metadata": {
        "id": "8Iuwz9ZG_CM9"
      },
      "execution_count": 132,
      "outputs": []
    },
    {
      "cell_type": "code",
      "source": [
        "nltk.download('punkt')"
      ],
      "metadata": {
        "colab": {
          "base_uri": "https://localhost:8080/"
        },
        "id": "ZxAUX7FFjDNo",
        "outputId": "d70bb6a8-0b03-4e1b-f59e-ad54041687c2"
      },
      "execution_count": 2,
      "outputs": [
        {
          "output_type": "stream",
          "name": "stdout",
          "text": [
            "[nltk_data] Downloading package punkt to /root/nltk_data...\n",
            "[nltk_data]   Unzipping tokenizers/punkt.zip.\n"
          ]
        },
        {
          "output_type": "execute_result",
          "data": {
            "text/plain": [
              "True"
            ]
          },
          "metadata": {},
          "execution_count": 2
        }
      ]
    },
    {
      "cell_type": "code",
      "source": [
        "nltk.download('wordnet')\n",
        "nltk.download('stopwords')"
      ],
      "metadata": {
        "colab": {
          "base_uri": "https://localhost:8080/"
        },
        "id": "DqXIBUQLkD9k",
        "outputId": "95dae28e-1cf6-45f3-d8f5-5e6ee1cd653d"
      },
      "execution_count": 8,
      "outputs": [
        {
          "output_type": "stream",
          "name": "stdout",
          "text": [
            "[nltk_data] Downloading package wordnet to /root/nltk_data...\n",
            "[nltk_data]   Unzipping corpora/wordnet.zip.\n",
            "[nltk_data] Downloading package stopwords to /root/nltk_data...\n",
            "[nltk_data]   Unzipping corpora/stopwords.zip.\n"
          ]
        },
        {
          "output_type": "execute_result",
          "data": {
            "text/plain": [
              "True"
            ]
          },
          "metadata": {},
          "execution_count": 8
        }
      ]
    },
    {
      "cell_type": "code",
      "source": [
        "#read data\n",
        "train = pd.read_csv('./train.csv')\n",
        "test = pd.read_csv('./test.csv')"
      ],
      "metadata": {
        "id": "IwKgBP9sjKRz"
      },
      "execution_count": 4,
      "outputs": []
    },
    {
      "cell_type": "code",
      "source": [
        "#Fill null values and create news columns\n",
        "test=test.fillna(' ')\n",
        "train=train.fillna(' ')\n",
        "test['news']=test['title']+' '+test['author']+test['text']\n",
        "train['news']=train['title']+' '+train['author']+train['text']"
      ],
      "metadata": {
        "id": "jiP_6KBajiZx"
      },
      "execution_count": 5,
      "outputs": []
    },
    {
      "cell_type": "code",
      "source": [
        "test['news']"
      ],
      "metadata": {
        "colab": {
          "base_uri": "https://localhost:8080/"
        },
        "id": "es31-GVBj4ch",
        "outputId": "bd3d8ffa-2161-4c3c-f809-80c9a422b128"
      },
      "execution_count": 6,
      "outputs": [
        {
          "output_type": "execute_result",
          "data": {
            "text/plain": [
              "0       Specter of Trump Loosens Tongues, if Not Purse...\n",
              "1       Russian warships ready to strike terrorists ne...\n",
              "2       #NoDAPL: Native American Leaders Vow to Stay A...\n",
              "3       Tim Tebow Will Attempt Another Comeback, This ...\n",
              "4       Keiser Report: Meme Wars (E995) Truth Broadcas...\n",
              "                              ...                        \n",
              "5195    The Bangladeshi Traffic Jam That Never Ends - ...\n",
              "5196    John Kasich Signs One Abortion Bill in Ohio bu...\n",
              "5197    California Today: What, Exactly, Is in Your Su...\n",
              "5198    300 US Marines To Be Deployed To Russian Borde...\n",
              "5199    Awkward Sex, Onscreen and Off - The New York T...\n",
              "Name: news, Length: 5200, dtype: object"
            ]
          },
          "metadata": {},
          "execution_count": 6
        }
      ]
    },
    {
      "cell_type": "code",
      "source": [
        "train['news']"
      ],
      "metadata": {
        "colab": {
          "base_uri": "https://localhost:8080/"
        },
        "id": "FDirMnDLj8vu",
        "outputId": "8b32b651-1e51-46c7-d961-4fd7bb16c5bb"
      },
      "execution_count": 7,
      "outputs": [
        {
          "output_type": "execute_result",
          "data": {
            "text/plain": [
              "0        House Dem Aide: We Didn’t Even See Comey’s Let...\n",
              "1        FLYNN: Hillary Clinton, Big Woman on Campus - ...\n",
              "2        Why the Truth Might Get You Fired Consortiumne...\n",
              "3        15 Civilians Killed In Single US Airstrike Hav...\n",
              "4        Iranian woman jailed for fictional unpublished...\n",
              "                               ...                        \n",
              "20795    Rapper T.I.: Trump a ’Poster Child For White S...\n",
              "20796    N.F.L. Playoffs: Schedule, Matchups and Odds -...\n",
              "20797    Macy’s Is Said to Receive Takeover Approach by...\n",
              "20798    NATO, Russia To Hold Parallel Exercises In Bal...\n",
              "20799    What Keeps the F-35 Alive David Swanson  David...\n",
              "Name: news, Length: 20800, dtype: object"
            ]
          },
          "metadata": {},
          "execution_count": 7
        }
      ]
    },
    {
      "cell_type": "code",
      "source": [
        "# stopwords \n",
        "stop_words = stopwords.words('english')\n",
        "print(stop_words)"
      ],
      "metadata": {
        "colab": {
          "base_uri": "https://localhost:8080/"
        },
        "id": "UMxcju24j_be",
        "outputId": "21e5de2f-fb63-436d-a650-7b1ef9ab6487"
      },
      "execution_count": 9,
      "outputs": [
        {
          "output_type": "stream",
          "name": "stdout",
          "text": [
            "['i', 'me', 'my', 'myself', 'we', 'our', 'ours', 'ourselves', 'you', \"you're\", \"you've\", \"you'll\", \"you'd\", 'your', 'yours', 'yourself', 'yourselves', 'he', 'him', 'his', 'himself', 'she', \"she's\", 'her', 'hers', 'herself', 'it', \"it's\", 'its', 'itself', 'they', 'them', 'their', 'theirs', 'themselves', 'what', 'which', 'who', 'whom', 'this', 'that', \"that'll\", 'these', 'those', 'am', 'is', 'are', 'was', 'were', 'be', 'been', 'being', 'have', 'has', 'had', 'having', 'do', 'does', 'did', 'doing', 'a', 'an', 'the', 'and', 'but', 'if', 'or', 'because', 'as', 'until', 'while', 'of', 'at', 'by', 'for', 'with', 'about', 'against', 'between', 'into', 'through', 'during', 'before', 'after', 'above', 'below', 'to', 'from', 'up', 'down', 'in', 'out', 'on', 'off', 'over', 'under', 'again', 'further', 'then', 'once', 'here', 'there', 'when', 'where', 'why', 'how', 'all', 'any', 'both', 'each', 'few', 'more', 'most', 'other', 'some', 'such', 'no', 'nor', 'not', 'only', 'own', 'same', 'so', 'than', 'too', 'very', 's', 't', 'can', 'will', 'just', 'don', \"don't\", 'should', \"should've\", 'now', 'd', 'll', 'm', 'o', 're', 've', 'y', 'ain', 'aren', \"aren't\", 'couldn', \"couldn't\", 'didn', \"didn't\", 'doesn', \"doesn't\", 'hadn', \"hadn't\", 'hasn', \"hasn't\", 'haven', \"haven't\", 'isn', \"isn't\", 'ma', 'mightn', \"mightn't\", 'mustn', \"mustn't\", 'needn', \"needn't\", 'shan', \"shan't\", 'shouldn', \"shouldn't\", 'wasn', \"wasn't\", 'weren', \"weren't\", 'won', \"won't\", 'wouldn', \"wouldn't\"]\n"
          ]
        }
      ]
    },
    {
      "cell_type": "code",
      "source": [
        "lemmatizer=WordNetLemmatizer()"
      ],
      "metadata": {
        "id": "-mE0vpTYkKbb"
      },
      "execution_count": 10,
      "outputs": []
    },
    {
      "cell_type": "code",
      "source": [
        "#preprocessing train data\n",
        "lemmatizer=WordNetLemmatizer()\n",
        "for index,row in train.iterrows():\n",
        "    filter_sentence = ''\n",
        "    \n",
        "    sentence = row['news']\n",
        "    sentence = re.sub(r'[^\\w\\s]','',sentence) #cleaning\n",
        "    \n",
        "    words = nltk.word_tokenize(sentence) #tokenization\n",
        "    \n",
        "    words = [w for w in words if not w in stop_words]  #stopwords removal\n",
        "    \n",
        "    for word in words:\n",
        "        filter_sentence = filter_sentence + ' ' + str(lemmatizer.lemmatize(word)).lower()\n",
        "        \n",
        "    train.loc[index,'news'] = filter_sentence"
      ],
      "metadata": {
        "id": "Ac8AsKxGkLfI"
      },
      "execution_count": 11,
      "outputs": []
    },
    {
      "cell_type": "code",
      "source": [
        "#preprocessing test data\n",
        "for index,row in test.iterrows():\n",
        "    filter_sentence = ''\n",
        "    \n",
        "    sentence = row['news']\n",
        "    sentence = re.sub(r'[^\\w\\s]','',sentence) #cleaning\n",
        "    \n",
        "    words = nltk.word_tokenize(sentence) #tokenization\n",
        "    \n",
        "    words = [w for w in words if not w in stop_words]  #stopwords removal\n",
        "    \n",
        "    for word in words:\n",
        "        filter_sentence = filter_sentence + ' ' + str(lemmatizer.lemmatize(word)).lower()\n",
        "        \n",
        "    test.loc[index,'news'] = filter_sentence"
      ],
      "metadata": {
        "id": "YVvgYO45kUmR"
      },
      "execution_count": 13,
      "outputs": []
    },
    {
      "cell_type": "code",
      "source": [
        "X_train = train['news']\n",
        "Y_train = train['label']"
      ],
      "metadata": {
        "id": "rc6AHil6lW_n"
      },
      "execution_count": 14,
      "outputs": []
    },
    {
      "cell_type": "code",
      "source": [
        "#vectorization \n",
        "vectorizer = CountVectorizer()"
      ],
      "metadata": {
        "id": "mGtk2Xkklspo"
      },
      "execution_count": 17,
      "outputs": []
    },
    {
      "cell_type": "code",
      "source": [
        "def vectorize_text(features, max_features):\n",
        "    vectorizer = TfidfVectorizer( stop_words='english',\n",
        "                            decode_error='strict',\n",
        "                            analyzer='word',\n",
        "                            ngram_range=(1, 2),\n",
        "                            max_features=max_features\n",
        "                            #max_df=0.5 # Verwendet im ML-Kurs unter Preprocessing                   \n",
        "                            )\n",
        "    feature_vec = vectorizer.fit_transform(features)\n",
        "    return feature_vec.toarray()"
      ],
      "metadata": {
        "id": "TQuvmO_vm0it"
      },
      "execution_count": 18,
      "outputs": []
    },
    {
      "cell_type": "code",
      "source": [
        "count_vectorizer = CountVectorizer()\n",
        "count_vectorizer.fit_transform(X_train)\n",
        "freq_term_matrix = count_vectorizer.transform(X_train)\n",
        "tfidf = TfidfTransformer(norm=\"l2\")\n",
        "tf_idf_matrix=tfidf.fit_transform(freq_term_matrix)"
      ],
      "metadata": {
        "id": "kBXNuXjKm5As"
      },
      "execution_count": 42,
      "outputs": []
    },
    {
      "cell_type": "code",
      "source": [
        "tf_idf_matrix"
      ],
      "metadata": {
        "colab": {
          "base_uri": "https://localhost:8080/"
        },
        "id": "wkh06yD0_frO",
        "outputId": "98fea224-baa1-483e-9387-b8ee826b8f64"
      },
      "execution_count": 43,
      "outputs": [
        {
          "output_type": "execute_result",
          "data": {
            "text/plain": [
              "<20800x220387 sparse matrix of type '<class 'numpy.float64'>'\n",
              "\twith 5987666 stored elements in Compressed Sparse Row format>"
            ]
          },
          "metadata": {},
          "execution_count": 43
        }
      ]
    },
    {
      "cell_type": "code",
      "source": [
        "test_pred = test['news']"
      ],
      "metadata": {
        "id": "eqRXSy6V67M1"
      },
      "execution_count": 23,
      "outputs": []
    },
    {
      "cell_type": "code",
      "source": [
        "freq_term_matrix_test = count_vectorizer.transform(test_pred)\n",
        "tf_idf_matrix_test = tfidf.transform(freq_term_matrix_test)"
      ],
      "metadata": {
        "id": "aezDUQ16oc9O"
      },
      "execution_count": 44,
      "outputs": []
    },
    {
      "cell_type": "code",
      "source": [
        "#test train split to measure the performance of models\n",
        "X_train, X_test, y_train, y_test = train_test_split(tf_idf_matrix,Y_train , test_size=0.2, random_state=42)"
      ],
      "metadata": {
        "id": "dbOLf_joFodP"
      },
      "execution_count": 58,
      "outputs": []
    },
    {
      "cell_type": "code",
      "source": [
        "tf_idf_matrix_test"
      ],
      "metadata": {
        "colab": {
          "base_uri": "https://localhost:8080/"
        },
        "id": "YZGIbXva_jF6",
        "outputId": "4e3bc7d8-e200-4634-de79-64e6a16bbd72"
      },
      "execution_count": 45,
      "outputs": [
        {
          "output_type": "execute_result",
          "data": {
            "text/plain": [
              "<5200x220387 sparse matrix of type '<class 'numpy.float64'>'\n",
              "\twith 1403400 stored elements in Compressed Sparse Row format>"
            ]
          },
          "metadata": {},
          "execution_count": 45
        }
      ]
    },
    {
      "cell_type": "code",
      "source": [
        "rfclassifier = RandomForestClassifier(n_estimators=500 )"
      ],
      "metadata": {
        "id": "Pvjrx3jB82lD"
      },
      "execution_count": 59,
      "outputs": []
    },
    {
      "cell_type": "code",
      "source": [
        "rfclassifier.fit(X_train,y_train)"
      ],
      "metadata": {
        "colab": {
          "base_uri": "https://localhost:8080/"
        },
        "id": "7gVbTH_a-axY",
        "outputId": "0c6fae78-63e4-48a1-bd4f-73323d0a04b5"
      },
      "execution_count": 60,
      "outputs": [
        {
          "output_type": "execute_result",
          "data": {
            "text/plain": [
              "RandomForestClassifier(n_estimators=500)"
            ]
          },
          "metadata": {},
          "execution_count": 60
        }
      ]
    },
    {
      "cell_type": "code",
      "source": [
        "y_pred = rfclassifier.predict(X_test)"
      ],
      "metadata": {
        "id": "_CUWjT_BIzsP"
      },
      "execution_count": 124,
      "outputs": []
    },
    {
      "cell_type": "code",
      "source": [
        "rfacc = accuracy_score(y_test, y_pred)"
      ],
      "metadata": {
        "id": "5c6TFXrMDgtK"
      },
      "execution_count": 125,
      "outputs": []
    },
    {
      "cell_type": "code",
      "source": [
        "rff1_score = metrics.f1_score(y_test, y_pred)"
      ],
      "metadata": {
        "id": "4oHoRolRLNQH"
      },
      "execution_count": 70,
      "outputs": []
    },
    {
      "cell_type": "code",
      "source": [
        "rff1_score"
      ],
      "metadata": {
        "colab": {
          "base_uri": "https://localhost:8080/"
        },
        "id": "A4reOYl2Jqeh",
        "outputId": "2ea05d7a-7cba-4050-fd61-024058e3f189"
      },
      "execution_count": 71,
      "outputs": [
        {
          "output_type": "execute_result",
          "data": {
            "text/plain": [
              "0.9500376600552348"
            ]
          },
          "metadata": {},
          "execution_count": 71
        }
      ]
    },
    {
      "cell_type": "code",
      "source": [
        "model = XGBClassifier(scale_pos_weight=1,learning_rate=0.1,colsample_bytree = 0.6,subsample = 0.8,objective='binary:logistic',n_estimators=2000, reg_alpha = 0.5,max_depth=6, gamma=10)"
      ],
      "metadata": {
        "id": "IOr04NW1DjSR"
      },
      "execution_count": 143,
      "outputs": []
    },
    {
      "cell_type": "code",
      "source": [
        "model.fit(X_train,y_train)\n"
      ],
      "metadata": {
        "colab": {
          "base_uri": "https://localhost:8080/"
        },
        "id": "QNRzCetaFVfr",
        "outputId": "def149ca-ddb3-4d2c-d369-e0835ceb545b"
      },
      "execution_count": 144,
      "outputs": [
        {
          "output_type": "execute_result",
          "data": {
            "text/plain": [
              "XGBClassifier(colsample_bytree=0.6, gamma=10, max_depth=6, n_estimators=2000,\n",
              "              reg_alpha=0.5, subsample=0.8)"
            ]
          },
          "metadata": {},
          "execution_count": 144
        }
      ]
    },
    {
      "cell_type": "code",
      "source": [
        "y_pred=model.predict(X_test)"
      ],
      "metadata": {
        "id": "K2euPw09WdUg"
      },
      "execution_count": 145,
      "outputs": []
    },
    {
      "cell_type": "code",
      "source": [
        "#output generated from xgboost classifier is taken for phase 2 after model selection\n",
        "output = model.predict(tf_idf_matrix_test)"
      ],
      "metadata": {
        "id": "upPOVzvXMT4G"
      },
      "execution_count": 146,
      "outputs": []
    },
    {
      "cell_type": "code",
      "source": [
        "xgbacc = accuracy_score(y_test, y_pred)"
      ],
      "metadata": {
        "id": "WwYSfHD1XDDv"
      },
      "execution_count": 98,
      "outputs": []
    },
    {
      "cell_type": "code",
      "source": [
        "xgbf1_score = metrics.f1_score(y_test, y_pred)"
      ],
      "metadata": {
        "id": "JavR9cmxXOkk"
      },
      "execution_count": 97,
      "outputs": []
    },
    {
      "cell_type": "code",
      "source": [
        "xgbf1_score"
      ],
      "metadata": {
        "colab": {
          "base_uri": "https://localhost:8080/"
        },
        "id": "c2SMy6oT9avJ",
        "outputId": "3ae25a1b-93c8-44de-cf3d-fa6319339869"
      },
      "execution_count": 105,
      "outputs": [
        {
          "output_type": "execute_result",
          "data": {
            "text/plain": [
              "0.9615290370007351"
            ]
          },
          "metadata": {},
          "execution_count": 105
        }
      ]
    },
    {
      "cell_type": "code",
      "source": [
        "from sklearn.linear_model import LogisticRegression"
      ],
      "metadata": {
        "id": "HQi6Yqr5XvYS"
      },
      "execution_count": 76,
      "outputs": []
    },
    {
      "cell_type": "code",
      "source": [
        " model = LogisticRegression()\n",
        " "
      ],
      "metadata": {
        "id": "iQWGYVJOXZ0-"
      },
      "execution_count": 83,
      "outputs": []
    },
    {
      "cell_type": "code",
      "source": [
        "model.fit(X_train,y_train)"
      ],
      "metadata": {
        "colab": {
          "base_uri": "https://localhost:8080/"
        },
        "id": "oXvVuLb2X0-N",
        "outputId": "66a3691f-f407-456d-ee10-f47be578ebdc"
      },
      "execution_count": 84,
      "outputs": [
        {
          "output_type": "execute_result",
          "data": {
            "text/plain": [
              "LogisticRegression()"
            ]
          },
          "metadata": {},
          "execution_count": 84
        }
      ]
    },
    {
      "cell_type": "code",
      "source": [
        "y_pred=model.predict(X_test)"
      ],
      "metadata": {
        "id": "yAK2M13WX8xm"
      },
      "execution_count": 107,
      "outputs": []
    },
    {
      "cell_type": "code",
      "source": [
        "lracc = accuracy_score(y_test, y_pred)"
      ],
      "metadata": {
        "id": "O5errBeBYAh6"
      },
      "execution_count": 108,
      "outputs": []
    },
    {
      "cell_type": "code",
      "source": [
        "lf1_score = metrics.f1_score(y_test, y_pred)"
      ],
      "metadata": {
        "id": "RoRPWby2YJLU"
      },
      "execution_count": 109,
      "outputs": []
    },
    {
      "cell_type": "code",
      "source": [
        "lf1_score"
      ],
      "metadata": {
        "colab": {
          "base_uri": "https://localhost:8080/"
        },
        "id": "SG-lGAAy9hZV",
        "outputId": "4e1baf1d-b71f-4c71-e128-5e3ea89bd7fc"
      },
      "execution_count": 110,
      "outputs": [
        {
          "output_type": "execute_result",
          "data": {
            "text/plain": [
              "0.9615290370007351"
            ]
          },
          "metadata": {},
          "execution_count": 110
        }
      ]
    },
    {
      "cell_type": "code",
      "source": [
        "naive_bayes = MultinomialNB()"
      ],
      "metadata": {
        "id": "d6MfZiT8YMKL"
      },
      "execution_count": 116,
      "outputs": []
    },
    {
      "cell_type": "code",
      "source": [
        "naive_bayes.fit(X_train,y_train)"
      ],
      "metadata": {
        "colab": {
          "base_uri": "https://localhost:8080/"
        },
        "id": "LddJwxnU7rG0",
        "outputId": "7ab490fa-da89-442f-ffe0-c9bd4db7ae36"
      },
      "execution_count": 117,
      "outputs": [
        {
          "output_type": "execute_result",
          "data": {
            "text/plain": [
              "MultinomialNB()"
            ]
          },
          "metadata": {},
          "execution_count": 117
        }
      ]
    },
    {
      "cell_type": "code",
      "source": [
        "y_pred=naive_bayes.predict(X_test)"
      ],
      "metadata": {
        "id": "cM5LHPks8TXj"
      },
      "execution_count": 118,
      "outputs": []
    },
    {
      "cell_type": "code",
      "source": [
        "nbf1_score = metrics.f1_score(y_test, y_pred)"
      ],
      "metadata": {
        "id": "MtH4DtPV9n7N"
      },
      "execution_count": 119,
      "outputs": []
    },
    {
      "cell_type": "code",
      "source": [
        "nbf1_score"
      ],
      "metadata": {
        "colab": {
          "base_uri": "https://localhost:8080/"
        },
        "id": "AFnWzYrv9zht",
        "outputId": "c0f572f2-fb08-4edd-e3ad-0b75cb966fa5"
      },
      "execution_count": 120,
      "outputs": [
        {
          "output_type": "execute_result",
          "data": {
            "text/plain": [
              "0.8294506758700028"
            ]
          },
          "metadata": {},
          "execution_count": 120
        }
      ]
    },
    {
      "cell_type": "code",
      "source": [
        "nbacc = accuracy_score(y_test, y_pred)"
      ],
      "metadata": {
        "id": "yacD8AJT97lJ"
      },
      "execution_count": 121,
      "outputs": []
    },
    {
      "cell_type": "code",
      "source": [
        "nbacc"
      ],
      "metadata": {
        "colab": {
          "base_uri": "https://localhost:8080/"
        },
        "id": "sZtBUksb-AOm",
        "outputId": "d0d6ae9a-4d22-4992-abe0-d76f1ee51ae5"
      },
      "execution_count": 122,
      "outputs": [
        {
          "output_type": "execute_result",
          "data": {
            "text/plain": [
              "0.8574519230769231"
            ]
          },
          "metadata": {},
          "execution_count": 122
        }
      ]
    },
    {
      "cell_type": "code",
      "source": [
        "output = "
      ],
      "metadata": {
        "id": "7klst_d4L4uJ"
      },
      "execution_count": null,
      "outputs": []
    },
    {
      "cell_type": "code",
      "source": [
        "# plot of accuracy and f1score \n",
        "names = ['rf','xgboost','lr','nb']\n",
        "accuracy = []\n",
        "accuracy.append(rfacc)\n",
        "accuracy.append(xgbacc)\n",
        "accuracy.append(lracc)\n",
        "accuracy.append(nbacc)"
      ],
      "metadata": {
        "id": "4s-CnqeG-Co4"
      },
      "execution_count": 127,
      "outputs": []
    },
    {
      "cell_type": "code",
      "source": [
        "f1_score=[]\n",
        "f1_score.append(rff1_score)\n",
        "f1_score.append(xgbf1_score)\n",
        "f1_score.append(lf1_score)\n",
        "f1_score.append(nbf1_score)"
      ],
      "metadata": {
        "id": "w3DTssjOCVUS"
      },
      "execution_count": 131,
      "outputs": []
    },
    {
      "cell_type": "code",
      "source": [
        "results=[]\n",
        "results.append(accuracy)\n",
        "results.append(f1_score)"
      ],
      "metadata": {
        "id": "tQIct6U6FWse"
      },
      "execution_count": 134,
      "outputs": []
    },
    {
      "cell_type": "code",
      "source": [
        "x=np.arange(4)"
      ],
      "metadata": {
        "id": "8qjS4yMTFi8r"
      },
      "execution_count": 137,
      "outputs": []
    },
    {
      "cell_type": "code",
      "source": [
        "accuracy"
      ],
      "metadata": {
        "id": "jQ_Xr9UaMq5B"
      },
      "execution_count": null,
      "outputs": []
    },
    {
      "cell_type": "code",
      "source": [
        "fig = plt.figure()\n",
        "ax = fig.add_axes([0,0,1,1])\n",
        "ax.bar(names,accuracy)\n",
        "ax.set_title(\"Accuracy of classifiers\")\n",
        "ax.set_ylabel('Accuracy')\n",
        "ax.set_xlabel('Classifiers')\n",
        "plt.show()\n"
      ],
      "metadata": {
        "colab": {
          "base_uri": "https://localhost:8080/",
          "height": 366
        },
        "id": "fhAh_BpeDMbw",
        "outputId": "578acd72-56cf-4a6b-cc34-316622421f34"
      },
      "execution_count": 141,
      "outputs": [
        {
          "output_type": "display_data",
          "data": {
            "image/png": "[encoded data removed]",
            "text/plain": [
              "<Figure size 432x288 with 1 Axes>"
            ]
          },
          "metadata": {
            "needs_background": "light"
          }
        }
      ]
    },
    {
      "cell_type": "code",
      "source": [
        "fig = plt.figure()\n",
        "ax = fig.add_axes([0,0,1,1])\n",
        "ax.bar(names,f1_score)\n",
        "ax.set_title(\"F1 score of classifiers\")\n",
        "ax.set_ylabel('F1 score')\n",
        "ax.set_xlabel('Classifiers')\n",
        "plt.show()"
      ],
      "metadata": {
        "colab": {
          "base_uri": "https://localhost:8080/",
          "height": 366
        },
        "id": "XN_aKQ2KIosJ",
        "outputId": "de0b4a69-1118-46de-8784-0b204174187d"
      },
      "execution_count": 142,
      "outputs": [
        {
          "output_type": "display_data",
          "data": {
            "image/png": "[encoded data removed]",
            "text/plain": [
              "<Figure size 432x288 with 1 Axes>"
            ]
          },
          "metadata": {
            "needs_background": "light"
          }
        }
      ]
    },
    {
      "cell_type": "code",
      "source": [
        "#Extracting all the data that has been classified fake for phase two test analysis"
      ],
      "metadata": {
        "id": "jJhoKYH6Xdh-"
      },
      "execution_count": null,
      "outputs": []
    },
    {
      "cell_type": "code",
      "source": [
        "test"
      ],
      "metadata": {
        "colab": {
          "base_uri": "https://localhost:8080/",
          "height": 743
        },
        "id": "c-QgY0IvHlXB",
        "outputId": "79ca1cb7-15fe-436c-b8fc-b336a8b2ac43"
      },
      "execution_count": 147,
      "outputs": [
        {
          "output_type": "execute_result",
          "data": {
            "text/html": [
              "<div>\n",
              "<style scoped>\n",
              "    .dataframe tbody tr th:only-of-type {\n",
              "        vertical-align: middle;\n",
              "    }\n",
              "\n",
              "    .dataframe tbody tr th {\n",
              "        vertical-align: top;\n",
              "    }\n",
              "\n",
              "    .dataframe thead th {\n",
              "        text-align: right;\n",
              "    }\n",
              "</style>\n",
              "<table border=\"1\" class=\"dataframe\">\n",
              "  <thead>\n",
              "    <tr style=\"text-align: right;\">\n",
              "      <th></th>\n",
              "      <th>id</th>\n",
              "      <th>title</th>\n",
              "      <th>author</th>\n",
              "      <th>text</th>\n",
              "      <th>news</th>\n",
              "    </tr>\n",
              "  </thead>\n",
              "  <tbody>\n",
              "    <tr>\n",
              "      <th>0</th>\n",
              "      <td>20800</td>\n",
              "      <td>Specter of Trump Loosens Tongues, if Not Purse...</td>\n",
              "      <td>David Streitfeld</td>\n",
              "      <td>PALO ALTO, Calif.  —   After years of scorning...</td>\n",
              "      <td>specter trump loosens tongue purse string sil...</td>\n",
              "    </tr>\n",
              "    <tr>\n",
              "      <th>1</th>\n",
              "      <td>20801</td>\n",
              "      <td>Russian warships ready to strike terrorists ne...</td>\n",
              "      <td></td>\n",
              "      <td>Russian warships ready to strike terrorists ne...</td>\n",
              "      <td>russian warship ready strike terrorist near a...</td>\n",
              "    </tr>\n",
              "    <tr>\n",
              "      <th>2</th>\n",
              "      <td>20802</td>\n",
              "      <td>#NoDAPL: Native American Leaders Vow to Stay A...</td>\n",
              "      <td>Common Dreams</td>\n",
              "      <td>Videos #NoDAPL: Native American Leaders Vow to...</td>\n",
              "      <td>nodapl native american leader vow stay winter...</td>\n",
              "    </tr>\n",
              "    <tr>\n",
              "      <th>3</th>\n",
              "      <td>20803</td>\n",
              "      <td>Tim Tebow Will Attempt Another Comeback, This ...</td>\n",
              "      <td>Daniel Victor</td>\n",
              "      <td>If at first you don’t succeed, try a different...</td>\n",
              "      <td>tim tebow attempt another comeback time baseb...</td>\n",
              "    </tr>\n",
              "    <tr>\n",
              "      <th>4</th>\n",
              "      <td>20804</td>\n",
              "      <td>Keiser Report: Meme Wars (E995)</td>\n",
              "      <td>Truth Broadcast Network</td>\n",
              "      <td>42 mins ago 1 Views 0 Comments 0 Likes 'For th...</td>\n",
              "      <td>keiser report meme war e995 truth broadcast n...</td>\n",
              "    </tr>\n",
              "    <tr>\n",
              "      <th>...</th>\n",
              "      <td>...</td>\n",
              "      <td>...</td>\n",
              "      <td>...</td>\n",
              "      <td>...</td>\n",
              "      <td>...</td>\n",
              "    </tr>\n",
              "    <tr>\n",
              "      <th>5195</th>\n",
              "      <td>25995</td>\n",
              "      <td>The Bangladeshi Traffic Jam That Never Ends - ...</td>\n",
              "      <td>Jody Rosen</td>\n",
              "      <td>Of all the dysfunctions that plague the world’...</td>\n",
              "      <td>bangladeshi traffic jam never end new york ti...</td>\n",
              "    </tr>\n",
              "    <tr>\n",
              "      <th>5196</th>\n",
              "      <td>25996</td>\n",
              "      <td>John Kasich Signs One Abortion Bill in Ohio bu...</td>\n",
              "      <td>Sheryl Gay Stolberg</td>\n",
              "      <td>WASHINGTON  —   Gov. John Kasich of Ohio on Tu...</td>\n",
              "      <td>john kasich sign one abortion bill ohio veto ...</td>\n",
              "    </tr>\n",
              "    <tr>\n",
              "      <th>5197</th>\n",
              "      <td>25997</td>\n",
              "      <td>California Today: What, Exactly, Is in Your Su...</td>\n",
              "      <td>Mike McPhate</td>\n",
              "      <td>Good morning. (Want to get California Today by...</td>\n",
              "      <td>california today exactly sushi new york time ...</td>\n",
              "    </tr>\n",
              "    <tr>\n",
              "      <th>5198</th>\n",
              "      <td>25998</td>\n",
              "      <td>300 US Marines To Be Deployed To Russian Borde...</td>\n",
              "      <td></td>\n",
              "      <td>« Previous - Next » 300 US Marines To Be Deplo...</td>\n",
              "      <td>300 u marine deployed russian border norway p...</td>\n",
              "    </tr>\n",
              "    <tr>\n",
              "      <th>5199</th>\n",
              "      <td>25999</td>\n",
              "      <td>Awkward Sex, Onscreen and Off - The New York T...</td>\n",
              "      <td>Teddy Wayne</td>\n",
              "      <td>Perhaps you’ve seen the new TV series whose pi...</td>\n",
              "      <td>awkward sex onscreen new york time teddy wayn...</td>\n",
              "    </tr>\n",
              "  </tbody>\n",
              "</table>\n",
              "<p>5200 rows × 5 columns</p>\n",
              "</div>"
            ],
            "text/plain": [
              "         id  ...                                               news\n",
              "0     20800  ...   specter trump loosens tongue purse string sil...\n",
              "1     20801  ...   russian warship ready strike terrorist near a...\n",
              "2     20802  ...   nodapl native american leader vow stay winter...\n",
              "3     20803  ...   tim tebow attempt another comeback time baseb...\n",
              "4     20804  ...   keiser report meme war e995 truth broadcast n...\n",
              "...     ...  ...                                                ...\n",
              "5195  25995  ...   bangladeshi traffic jam never end new york ti...\n",
              "5196  25996  ...   john kasich sign one abortion bill ohio veto ...\n",
              "5197  25997  ...   california today exactly sushi new york time ...\n",
              "5198  25998  ...   300 u marine deployed russian border norway p...\n",
              "5199  25999  ...   awkward sex onscreen new york time teddy wayn...\n",
              "\n",
              "[5200 rows x 5 columns]"
            ]
          },
          "metadata": {},
          "execution_count": 147
        }
      ]
    },
    {
      "cell_type": "code",
      "source": [
        "# appending output generated as label column to test data\n",
        "test['label']= output"
      ],
      "metadata": {
        "id": "5LxkIvDkVl9Q"
      },
      "execution_count": 149,
      "outputs": []
    },
    {
      "cell_type": "code",
      "source": [
        "test"
      ],
      "metadata": {
        "colab": {
          "base_uri": "https://localhost:8080/",
          "height": 809
        },
        "id": "6uYK7MfaWjHy",
        "outputId": "72b080db-b448-4de3-ae48-eb3ee64bc986"
      },
      "execution_count": 150,
      "outputs": [
        {
          "output_type": "execute_result",
          "data": {
            "text/html": [
              "<div>\n",
              "<style scoped>\n",
              "    .dataframe tbody tr th:only-of-type {\n",
              "        vertical-align: middle;\n",
              "    }\n",
              "\n",
              "    .dataframe tbody tr th {\n",
              "        vertical-align: top;\n",
              "    }\n",
              "\n",
              "    .dataframe thead th {\n",
              "        text-align: right;\n",
              "    }\n",
              "</style>\n",
              "<table border=\"1\" class=\"dataframe\">\n",
              "  <thead>\n",
              "    <tr style=\"text-align: right;\">\n",
              "      <th></th>\n",
              "      <th>id</th>\n",
              "      <th>title</th>\n",
              "      <th>author</th>\n",
              "      <th>text</th>\n",
              "      <th>news</th>\n",
              "      <th>label</th>\n",
              "    </tr>\n",
              "  </thead>\n",
              "  <tbody>\n",
              "    <tr>\n",
              "      <th>0</th>\n",
              "      <td>20800</td>\n",
              "      <td>Specter of Trump Loosens Tongues, if Not Purse...</td>\n",
              "      <td>David Streitfeld</td>\n",
              "      <td>PALO ALTO, Calif.  —   After years of scorning...</td>\n",
              "      <td>specter trump loosens tongue purse string sil...</td>\n",
              "      <td>0</td>\n",
              "    </tr>\n",
              "    <tr>\n",
              "      <th>1</th>\n",
              "      <td>20801</td>\n",
              "      <td>Russian warships ready to strike terrorists ne...</td>\n",
              "      <td></td>\n",
              "      <td>Russian warships ready to strike terrorists ne...</td>\n",
              "      <td>russian warship ready strike terrorist near a...</td>\n",
              "      <td>1</td>\n",
              "    </tr>\n",
              "    <tr>\n",
              "      <th>2</th>\n",
              "      <td>20802</td>\n",
              "      <td>#NoDAPL: Native American Leaders Vow to Stay A...</td>\n",
              "      <td>Common Dreams</td>\n",
              "      <td>Videos #NoDAPL: Native American Leaders Vow to...</td>\n",
              "      <td>nodapl native american leader vow stay winter...</td>\n",
              "      <td>1</td>\n",
              "    </tr>\n",
              "    <tr>\n",
              "      <th>3</th>\n",
              "      <td>20803</td>\n",
              "      <td>Tim Tebow Will Attempt Another Comeback, This ...</td>\n",
              "      <td>Daniel Victor</td>\n",
              "      <td>If at first you don’t succeed, try a different...</td>\n",
              "      <td>tim tebow attempt another comeback time baseb...</td>\n",
              "      <td>0</td>\n",
              "    </tr>\n",
              "    <tr>\n",
              "      <th>4</th>\n",
              "      <td>20804</td>\n",
              "      <td>Keiser Report: Meme Wars (E995)</td>\n",
              "      <td>Truth Broadcast Network</td>\n",
              "      <td>42 mins ago 1 Views 0 Comments 0 Likes 'For th...</td>\n",
              "      <td>keiser report meme war e995 truth broadcast n...</td>\n",
              "      <td>1</td>\n",
              "    </tr>\n",
              "    <tr>\n",
              "      <th>...</th>\n",
              "      <td>...</td>\n",
              "      <td>...</td>\n",
              "      <td>...</td>\n",
              "      <td>...</td>\n",
              "      <td>...</td>\n",
              "      <td>...</td>\n",
              "    </tr>\n",
              "    <tr>\n",
              "      <th>5195</th>\n",
              "      <td>25995</td>\n",
              "      <td>The Bangladeshi Traffic Jam That Never Ends - ...</td>\n",
              "      <td>Jody Rosen</td>\n",
              "      <td>Of all the dysfunctions that plague the world’...</td>\n",
              "      <td>bangladeshi traffic jam never end new york ti...</td>\n",
              "      <td>1</td>\n",
              "    </tr>\n",
              "    <tr>\n",
              "      <th>5196</th>\n",
              "      <td>25996</td>\n",
              "      <td>John Kasich Signs One Abortion Bill in Ohio bu...</td>\n",
              "      <td>Sheryl Gay Stolberg</td>\n",
              "      <td>WASHINGTON  —   Gov. John Kasich of Ohio on Tu...</td>\n",
              "      <td>john kasich sign one abortion bill ohio veto ...</td>\n",
              "      <td>0</td>\n",
              "    </tr>\n",
              "    <tr>\n",
              "      <th>5197</th>\n",
              "      <td>25997</td>\n",
              "      <td>California Today: What, Exactly, Is in Your Su...</td>\n",
              "      <td>Mike McPhate</td>\n",
              "      <td>Good morning. (Want to get California Today by...</td>\n",
              "      <td>california today exactly sushi new york time ...</td>\n",
              "      <td>0</td>\n",
              "    </tr>\n",
              "    <tr>\n",
              "      <th>5198</th>\n",
              "      <td>25998</td>\n",
              "      <td>300 US Marines To Be Deployed To Russian Borde...</td>\n",
              "      <td></td>\n",
              "      <td>« Previous - Next » 300 US Marines To Be Deplo...</td>\n",
              "      <td>300 u marine deployed russian border norway p...</td>\n",
              "      <td>1</td>\n",
              "    </tr>\n",
              "    <tr>\n",
              "      <th>5199</th>\n",
              "      <td>25999</td>\n",
              "      <td>Awkward Sex, Onscreen and Off - The New York T...</td>\n",
              "      <td>Teddy Wayne</td>\n",
              "      <td>Perhaps you’ve seen the new TV series whose pi...</td>\n",
              "      <td>awkward sex onscreen new york time teddy wayn...</td>\n",
              "      <td>0</td>\n",
              "    </tr>\n",
              "  </tbody>\n",
              "</table>\n",
              "<p>5200 rows × 6 columns</p>\n",
              "</div>"
            ],
            "text/plain": [
              "         id  ... label\n",
              "0     20800  ...     0\n",
              "1     20801  ...     1\n",
              "2     20802  ...     1\n",
              "3     20803  ...     0\n",
              "4     20804  ...     1\n",
              "...     ...  ...   ...\n",
              "5195  25995  ...     1\n",
              "5196  25996  ...     0\n",
              "5197  25997  ...     0\n",
              "5198  25998  ...     1\n",
              "5199  25999  ...     0\n",
              "\n",
              "[5200 rows x 6 columns]"
            ]
          },
          "metadata": {},
          "execution_count": 150
        }
      ]
    },
    {
      "cell_type": "code",
      "source": [
        "# 0 is real 1 is fake extracting only fake\n",
        "fake_news = test.loc[test['label']==1]"
      ],
      "metadata": {
        "id": "EQ3BKbALWrTU"
      },
      "execution_count": 152,
      "outputs": []
    },
    {
      "cell_type": "code",
      "source": [
        "fake_news"
      ],
      "metadata": {
        "colab": {
          "base_uri": "https://localhost:8080/",
          "height": 842
        },
        "id": "3GNp1eoFXWW6",
        "outputId": "aa938d30-5179-4176-e427-0db5a431eaa6"
      },
      "execution_count": 153,
      "outputs": [
        {
          "output_type": "execute_result",
          "data": {
            "text/html": [
              "<div>\n",
              "<style scoped>\n",
              "    .dataframe tbody tr th:only-of-type {\n",
              "        vertical-align: middle;\n",
              "    }\n",
              "\n",
              "    .dataframe tbody tr th {\n",
              "        vertical-align: top;\n",
              "    }\n",
              "\n",
              "    .dataframe thead th {\n",
              "        text-align: right;\n",
              "    }\n",
              "</style>\n",
              "<table border=\"1\" class=\"dataframe\">\n",
              "  <thead>\n",
              "    <tr style=\"text-align: right;\">\n",
              "      <th></th>\n",
              "      <th>id</th>\n",
              "      <th>title</th>\n",
              "      <th>author</th>\n",
              "      <th>text</th>\n",
              "      <th>news</th>\n",
              "      <th>label</th>\n",
              "    </tr>\n",
              "  </thead>\n",
              "  <tbody>\n",
              "    <tr>\n",
              "      <th>1</th>\n",
              "      <td>20801</td>\n",
              "      <td>Russian warships ready to strike terrorists ne...</td>\n",
              "      <td></td>\n",
              "      <td>Russian warships ready to strike terrorists ne...</td>\n",
              "      <td>russian warship ready strike terrorist near a...</td>\n",
              "      <td>1</td>\n",
              "    </tr>\n",
              "    <tr>\n",
              "      <th>2</th>\n",
              "      <td>20802</td>\n",
              "      <td>#NoDAPL: Native American Leaders Vow to Stay A...</td>\n",
              "      <td>Common Dreams</td>\n",
              "      <td>Videos #NoDAPL: Native American Leaders Vow to...</td>\n",
              "      <td>nodapl native american leader vow stay winter...</td>\n",
              "      <td>1</td>\n",
              "    </tr>\n",
              "    <tr>\n",
              "      <th>4</th>\n",
              "      <td>20804</td>\n",
              "      <td>Keiser Report: Meme Wars (E995)</td>\n",
              "      <td>Truth Broadcast Network</td>\n",
              "      <td>42 mins ago 1 Views 0 Comments 0 Likes 'For th...</td>\n",
              "      <td>keiser report meme war e995 truth broadcast n...</td>\n",
              "      <td>1</td>\n",
              "    </tr>\n",
              "    <tr>\n",
              "      <th>5</th>\n",
              "      <td>20805</td>\n",
              "      <td>Trump is USA's antique hero. Clinton will be n...</td>\n",
              "      <td></td>\n",
              "      <td>Trump is USA's antique hero. Clinton will be n...</td>\n",
              "      <td>trump usa antique hero clinton next president...</td>\n",
              "      <td>1</td>\n",
              "    </tr>\n",
              "    <tr>\n",
              "      <th>7</th>\n",
              "      <td>20807</td>\n",
              "      <td>Weekly Featured Profile – Randy Shannon</td>\n",
              "      <td>Trevor Loudon</td>\n",
              "      <td>You are here: Home / *Articles of the Bound* /...</td>\n",
              "      <td>weekly featured profile randy shannon trevor ...</td>\n",
              "      <td>1</td>\n",
              "    </tr>\n",
              "    <tr>\n",
              "      <th>...</th>\n",
              "      <td>...</td>\n",
              "      <td>...</td>\n",
              "      <td>...</td>\n",
              "      <td>...</td>\n",
              "      <td>...</td>\n",
              "      <td>...</td>\n",
              "    </tr>\n",
              "    <tr>\n",
              "      <th>5189</th>\n",
              "      <td>25989</td>\n",
              "      <td>Amazon extends olive branch to Megyn Kelly ove...</td>\n",
              "      <td>Staff Writer</td>\n",
              "      <td>11.23.2016 @4:17 PM EST More Establishment tie...</td>\n",
              "      <td>amazon extends olive branch megyn kelly book ...</td>\n",
              "      <td>1</td>\n",
              "    </tr>\n",
              "    <tr>\n",
              "      <th>5192</th>\n",
              "      <td>25992</td>\n",
              "      <td>Earth To Ammosexuals: NRA Admits No One Is Com...</td>\n",
              "      <td>Natalie Dailey</td>\n",
              "      <td>Earth To Ammosexuals: NRA Admits No One Is Com...</td>\n",
              "      <td>earth ammosexuals nra admits one coming gun v...</td>\n",
              "      <td>1</td>\n",
              "    </tr>\n",
              "    <tr>\n",
              "      <th>5193</th>\n",
              "      <td>25993</td>\n",
              "      <td>Toyota Recalls 1.4 Million Vehicles as 2nd Maj...</td>\n",
              "      <td>Hiroko Tabuchi and Jonathan Soble</td>\n",
              "      <td>Public concern about faulty automobile airbags...</td>\n",
              "      <td>toyota recall 14 million vehicle 2nd major ai...</td>\n",
              "      <td>1</td>\n",
              "    </tr>\n",
              "    <tr>\n",
              "      <th>5195</th>\n",
              "      <td>25995</td>\n",
              "      <td>The Bangladeshi Traffic Jam That Never Ends - ...</td>\n",
              "      <td>Jody Rosen</td>\n",
              "      <td>Of all the dysfunctions that plague the world’...</td>\n",
              "      <td>bangladeshi traffic jam never end new york ti...</td>\n",
              "      <td>1</td>\n",
              "    </tr>\n",
              "    <tr>\n",
              "      <th>5198</th>\n",
              "      <td>25998</td>\n",
              "      <td>300 US Marines To Be Deployed To Russian Borde...</td>\n",
              "      <td></td>\n",
              "      <td>« Previous - Next » 300 US Marines To Be Deplo...</td>\n",
              "      <td>300 u marine deployed russian border norway p...</td>\n",
              "      <td>1</td>\n",
              "    </tr>\n",
              "  </tbody>\n",
              "</table>\n",
              "<p>2967 rows × 6 columns</p>\n",
              "</div>"
            ],
            "text/plain": [
              "         id  ... label\n",
              "1     20801  ...     1\n",
              "2     20802  ...     1\n",
              "4     20804  ...     1\n",
              "5     20805  ...     1\n",
              "7     20807  ...     1\n",
              "...     ...  ...   ...\n",
              "5189  25989  ...     1\n",
              "5192  25992  ...     1\n",
              "5193  25993  ...     1\n",
              "5195  25995  ...     1\n",
              "5198  25998  ...     1\n",
              "\n",
              "[2967 rows x 6 columns]"
            ]
          },
          "metadata": {},
          "execution_count": 153
        }
      ]
    },
    {
      "cell_type": "code",
      "source": [
        "# creating a fake news test file for phase 2 \n",
        "fake_news.to_csv('./test1.csv')"
      ],
      "metadata": {
        "id": "ijf3KKLRX5gq"
      },
      "execution_count": 154,
      "outputs": []
    }
  ]
}